{
 "cells": [
  {
   "cell_type": "markdown",
   "metadata": {},
   "source": [
    "![hackio](https://github.com/Hack-io-Data/Imagenes/blob/main/01-LogosHackio/logo_celeste@4x.png?raw=true)\n"
   ]
  },
  {
   "cell_type": "markdown",
   "metadata": {},
   "source": [
    "# Laboratorio A/B Testing No Paramétricos\n",
    "\n",
    "**Aerolínea:** \n",
    "Alas del Mundo\n",
    "\n",
    "**Descripción de la Aerolínea**\n",
    "\n",
    "Alas del Mundo es una aerolínea internacional que opera una amplia red de rutas a nivel mundial. La compañía se enorgullece de ofrecer vuelos cómodos y asequibles a una variedad de destinos, atrayendo a una diversa gama de clientes.\n",
    "\n",
    "**Objetivo del Análisis**\n",
    "\n",
    "El objetivo de este ejercicio es determinar si existe una diferencia significativa en el número de vuelos reservados entre pasajeros con diferentes niveles educativos y si existe una diferencia significativa entre el género de sus clientes y su salario. La aerolínea desea entender mejor a sus clientes para poder personalizar sus campañas de marketing y mejorar sus estrategias de ventas.\n",
    "\n",
    "**Set de datos**\n",
    "\n",
    "El conjunto de datos *alas_del_mundo.csv* contiene información sobre clientes de la aerolínea Alas del Mundo. A continuación, tenemos una descripción de lo que nos podemos encontrar en el conjunto de datos:\n",
    "\n",
    "- **Loyalty Number**: Número de registro de cada uno de los clientes.\n",
    "\n",
    "- **Province**: Provincia de residencia del cliente.\n",
    "\n",
    "- **City**: Ciudad de residencia del cliente.\n",
    "\n",
    "- **Gender**: Género con el que se identifica el cliente.\n",
    "\n",
    "- **Education**: Nivel educativo del cliente.\n",
    "\n",
    "- **Salary**: Salario anual del cliente.\n",
    "\n",
    "- **Loyalty Card**: Nivel que tiene el cliente dentro del programa de fidelización de la aerolínea.\n",
    "\n",
    "- **CLV**: Valor total del cliente para la aerolínea a lo largo de toda su relación.\n",
    "\n",
    "- **Enrollment Type**: Forma de registro del cliente a la aerolínea.\n",
    "\n",
    "- **Enrollment Year**: Año de inscripción.\n",
    "\n",
    "- **Enrollment Month**: Mes de inscripción. \n",
    "\n",
    "- **Year**: Año en el que se realizan los vuelos.\n",
    "\n",
    "- **Month**: Mes en el que se realizan los vuelos.\n",
    "\n",
    "- **Flights Booked**: Vuelos reservados por el cliente en un mes y año concretos.\n",
    "\n",
    "- **Distance**: Distancia de vuelo del cliente en un mes y año concreto\n",
    "\n",
    "- **Points Accumulated**: Puntos acumulados por el cliente en un mes y año concretos.\n",
    "\n",
    "## Ejercicio 1:\n",
    "\n",
    "Antes de realizar el experimento A/B y formular hipótesis, es fundamental comprender a fondo el conjunto de datos y sus características. Para lograr esto, debes llevar a cabo un análisis exploratorio detallado de los datos (EDA), con el fin de familiarizarte con ellos y entender la información disponible.\n",
    "\n"
   ]
  },
  {
   "cell_type": "code",
   "execution_count": 1,
   "metadata": {},
   "outputs": [],
   "source": [
    "import pandas as pd\n",
    "import scipy.stats as stats\n",
    "import matplotlib.pyplot as plt\n",
    "import seaborn as sns\n",
    "from tqdm import tqdm\n",
    "import numpy as np"
   ]
  },
  {
   "cell_type": "code",
   "execution_count": 2,
   "metadata": {},
   "outputs": [],
   "source": [
    "df = pd.read_csv(\"datos/alas_del_mundo.csv\")"
   ]
  },
  {
   "cell_type": "code",
   "execution_count": 3,
   "metadata": {},
   "outputs": [
    {
     "data": {
      "text/html": [
       "<div>\n",
       "<style scoped>\n",
       "    .dataframe tbody tr th:only-of-type {\n",
       "        vertical-align: middle;\n",
       "    }\n",
       "\n",
       "    .dataframe tbody tr th {\n",
       "        vertical-align: top;\n",
       "    }\n",
       "\n",
       "    .dataframe thead th {\n",
       "        text-align: right;\n",
       "    }\n",
       "</style>\n",
       "<table border=\"1\" class=\"dataframe\">\n",
       "  <thead>\n",
       "    <tr style=\"text-align: right;\">\n",
       "      <th></th>\n",
       "      <th>Loyalty Number</th>\n",
       "      <th>Province</th>\n",
       "      <th>City</th>\n",
       "      <th>Gender</th>\n",
       "      <th>Education</th>\n",
       "      <th>Salary</th>\n",
       "      <th>Loyalty Card</th>\n",
       "      <th>CLV</th>\n",
       "      <th>Enrollment Type</th>\n",
       "      <th>Enrollment Year</th>\n",
       "      <th>Enrollment Month</th>\n",
       "      <th>Year</th>\n",
       "      <th>Month</th>\n",
       "      <th>Flights Booked</th>\n",
       "      <th>Distance</th>\n",
       "      <th>Points Accumulated</th>\n",
       "    </tr>\n",
       "  </thead>\n",
       "  <tbody>\n",
       "    <tr>\n",
       "      <th>119429</th>\n",
       "      <td>816122</td>\n",
       "      <td>Ontario</td>\n",
       "      <td>Toronto</td>\n",
       "      <td>Female</td>\n",
       "      <td>Bachelor</td>\n",
       "      <td>75990.0</td>\n",
       "      <td>Nova</td>\n",
       "      <td>3238.00</td>\n",
       "      <td>Standard</td>\n",
       "      <td>2017</td>\n",
       "      <td>9</td>\n",
       "      <td>2017</td>\n",
       "      <td>6</td>\n",
       "      <td>0</td>\n",
       "      <td>0</td>\n",
       "      <td>0.00</td>\n",
       "    </tr>\n",
       "    <tr>\n",
       "      <th>285619</th>\n",
       "      <td>235885</td>\n",
       "      <td>Quebec</td>\n",
       "      <td>Tremblant</td>\n",
       "      <td>Female</td>\n",
       "      <td>Bachelor</td>\n",
       "      <td>53337.0</td>\n",
       "      <td>Star</td>\n",
       "      <td>2727.08</td>\n",
       "      <td>Standard</td>\n",
       "      <td>2014</td>\n",
       "      <td>12</td>\n",
       "      <td>2018</td>\n",
       "      <td>8</td>\n",
       "      <td>9</td>\n",
       "      <td>3681</td>\n",
       "      <td>368.00</td>\n",
       "    </tr>\n",
       "    <tr>\n",
       "      <th>190694</th>\n",
       "      <td>912588</td>\n",
       "      <td>British Columbia</td>\n",
       "      <td>West Vancouver</td>\n",
       "      <td>Male</td>\n",
       "      <td>College</td>\n",
       "      <td>NaN</td>\n",
       "      <td>Nova</td>\n",
       "      <td>7799.44</td>\n",
       "      <td>Standard</td>\n",
       "      <td>2013</td>\n",
       "      <td>4</td>\n",
       "      <td>2018</td>\n",
       "      <td>3</td>\n",
       "      <td>3</td>\n",
       "      <td>1518</td>\n",
       "      <td>188.75</td>\n",
       "    </tr>\n",
       "    <tr>\n",
       "      <th>273080</th>\n",
       "      <td>387214</td>\n",
       "      <td>Ontario</td>\n",
       "      <td>Toronto</td>\n",
       "      <td>Female</td>\n",
       "      <td>Bachelor</td>\n",
       "      <td>74964.0</td>\n",
       "      <td>Star</td>\n",
       "      <td>4362.93</td>\n",
       "      <td>2018 Promotion</td>\n",
       "      <td>2018</td>\n",
       "      <td>2</td>\n",
       "      <td>2017</td>\n",
       "      <td>9</td>\n",
       "      <td>0</td>\n",
       "      <td>0</td>\n",
       "      <td>0.00</td>\n",
       "    </tr>\n",
       "    <tr>\n",
       "      <th>197175</th>\n",
       "      <td>952244</td>\n",
       "      <td>British Columbia</td>\n",
       "      <td>Vancouver</td>\n",
       "      <td>Male</td>\n",
       "      <td>Bachelor</td>\n",
       "      <td>61253.0</td>\n",
       "      <td>Nova</td>\n",
       "      <td>8346.02</td>\n",
       "      <td>Standard</td>\n",
       "      <td>2018</td>\n",
       "      <td>11</td>\n",
       "      <td>2018</td>\n",
       "      <td>4</td>\n",
       "      <td>0</td>\n",
       "      <td>0</td>\n",
       "      <td>0.00</td>\n",
       "    </tr>\n",
       "  </tbody>\n",
       "</table>\n",
       "</div>"
      ],
      "text/plain": [
       "        Loyalty Number          Province            City  Gender Education  \\\n",
       "119429          816122           Ontario         Toronto  Female  Bachelor   \n",
       "285619          235885            Quebec       Tremblant  Female  Bachelor   \n",
       "190694          912588  British Columbia  West Vancouver    Male   College   \n",
       "273080          387214           Ontario         Toronto  Female  Bachelor   \n",
       "197175          952244  British Columbia       Vancouver    Male  Bachelor   \n",
       "\n",
       "         Salary Loyalty Card      CLV Enrollment Type  Enrollment Year  \\\n",
       "119429  75990.0         Nova  3238.00        Standard             2017   \n",
       "285619  53337.0         Star  2727.08        Standard             2014   \n",
       "190694      NaN         Nova  7799.44        Standard             2013   \n",
       "273080  74964.0         Star  4362.93  2018 Promotion             2018   \n",
       "197175  61253.0         Nova  8346.02        Standard             2018   \n",
       "\n",
       "        Enrollment Month  Year  Month  Flights Booked  Distance  \\\n",
       "119429                 9  2017      6               0         0   \n",
       "285619                12  2018      8               9      3681   \n",
       "190694                 4  2018      3               3      1518   \n",
       "273080                 2  2017      9               0         0   \n",
       "197175                11  2018      4               0         0   \n",
       "\n",
       "        Points Accumulated  \n",
       "119429                0.00  \n",
       "285619              368.00  \n",
       "190694              188.75  \n",
       "273080                0.00  \n",
       "197175                0.00  "
      ]
     },
     "execution_count": 3,
     "metadata": {},
     "output_type": "execute_result"
    }
   ],
   "source": [
    "df.sample(5)"
   ]
  },
  {
   "cell_type": "markdown",
   "metadata": {},
   "source": [
    "Vamos a comprobar primero si hay filas completas nulas o filas enteras duplicadas."
   ]
  },
  {
   "cell_type": "code",
   "execution_count": 4,
   "metadata": {},
   "outputs": [
    {
     "data": {
      "text/plain": [
       "0"
      ]
     },
     "execution_count": 4,
     "metadata": {},
     "output_type": "execute_result"
    }
   ],
   "source": [
    "df.isna().all(axis=1).sum()"
   ]
  },
  {
   "cell_type": "code",
   "execution_count": 5,
   "metadata": {},
   "outputs": [
    {
     "name": "stdout",
     "output_type": "stream",
     "text": [
      "1864\n"
     ]
    }
   ],
   "source": [
    "print(df.duplicated().sum())\n",
    "df.drop_duplicates(inplace=True)"
   ]
  },
  {
   "cell_type": "markdown",
   "metadata": {},
   "source": [
    "No tenemos filas completas nulas, pero sí tenemos filas enteras duplicadas. Éstas pueden ser descartadas ya que no nos dan ninguna información útil."
   ]
  },
  {
   "cell_type": "markdown",
   "metadata": {},
   "source": [
    "Ahora comprobemos nulos por columna. Para ello vamos a hacer un resumen rápido usando .info()."
   ]
  },
  {
   "cell_type": "code",
   "execution_count": 6,
   "metadata": {},
   "outputs": [
    {
     "name": "stdout",
     "output_type": "stream",
     "text": [
      "<class 'pandas.core.frame.DataFrame'>\n",
      "Index: 403760 entries, 0 to 405623\n",
      "Data columns (total 16 columns):\n",
      " #   Column              Non-Null Count   Dtype  \n",
      "---  ------              --------------   -----  \n",
      " 0   Loyalty Number      403760 non-null  int64  \n",
      " 1   Province            403760 non-null  object \n",
      " 2   City                403760 non-null  object \n",
      " 3   Gender              403760 non-null  object \n",
      " 4   Education           403760 non-null  object \n",
      " 5   Salary              301500 non-null  float64\n",
      " 6   Loyalty Card        403760 non-null  object \n",
      " 7   CLV                 403760 non-null  float64\n",
      " 8   Enrollment Type     403760 non-null  object \n",
      " 9   Enrollment Year     403760 non-null  int64  \n",
      " 10  Enrollment Month    403760 non-null  int64  \n",
      " 11  Year                403760 non-null  int64  \n",
      " 12  Month               403760 non-null  int64  \n",
      " 13  Flights Booked      403760 non-null  int64  \n",
      " 14  Distance            403760 non-null  int64  \n",
      " 15  Points Accumulated  403760 non-null  float64\n",
      "dtypes: float64(3), int64(7), object(6)\n",
      "memory usage: 52.4+ MB\n"
     ]
    }
   ],
   "source": [
    "df.info()"
   ]
  },
  {
   "cell_type": "markdown",
   "metadata": {},
   "source": [
    "Vemos que tenemos nulos únicamente en la columna de salarios, y además bastantes. Lo siguiente será ver la procedencia de estos nulos y tomar una decisión de cómo tratarlos."
   ]
  },
  {
   "cell_type": "code",
   "execution_count": 7,
   "metadata": {},
   "outputs": [
    {
     "data": {
      "text/html": [
       "<div>\n",
       "<style scoped>\n",
       "    .dataframe tbody tr th:only-of-type {\n",
       "        vertical-align: middle;\n",
       "    }\n",
       "\n",
       "    .dataframe tbody tr th {\n",
       "        vertical-align: top;\n",
       "    }\n",
       "\n",
       "    .dataframe thead th {\n",
       "        text-align: right;\n",
       "    }\n",
       "</style>\n",
       "<table border=\"1\" class=\"dataframe\">\n",
       "  <thead>\n",
       "    <tr style=\"text-align: right;\">\n",
       "      <th></th>\n",
       "      <th>Loyalty Number</th>\n",
       "      <th>Province</th>\n",
       "      <th>City</th>\n",
       "      <th>Gender</th>\n",
       "      <th>Education</th>\n",
       "      <th>Salary</th>\n",
       "      <th>Loyalty Card</th>\n",
       "      <th>CLV</th>\n",
       "      <th>Enrollment Type</th>\n",
       "      <th>Enrollment Year</th>\n",
       "      <th>Enrollment Month</th>\n",
       "      <th>Year</th>\n",
       "      <th>Month</th>\n",
       "      <th>Flights Booked</th>\n",
       "      <th>Distance</th>\n",
       "      <th>Points Accumulated</th>\n",
       "    </tr>\n",
       "  </thead>\n",
       "  <tbody>\n",
       "    <tr>\n",
       "      <th>26655</th>\n",
       "      <td>256945</td>\n",
       "      <td>Manitoba</td>\n",
       "      <td>Winnipeg</td>\n",
       "      <td>Female</td>\n",
       "      <td>College</td>\n",
       "      <td>NaN</td>\n",
       "      <td>Aurora</td>\n",
       "      <td>5331.82</td>\n",
       "      <td>Standard</td>\n",
       "      <td>2014</td>\n",
       "      <td>1</td>\n",
       "      <td>2018</td>\n",
       "      <td>4</td>\n",
       "      <td>0</td>\n",
       "      <td>0</td>\n",
       "      <td>0.0</td>\n",
       "    </tr>\n",
       "    <tr>\n",
       "      <th>179150</th>\n",
       "      <td>963642</td>\n",
       "      <td>New Brunswick</td>\n",
       "      <td>Moncton</td>\n",
       "      <td>Male</td>\n",
       "      <td>College</td>\n",
       "      <td>NaN</td>\n",
       "      <td>Nova</td>\n",
       "      <td>6778.84</td>\n",
       "      <td>Standard</td>\n",
       "      <td>2016</td>\n",
       "      <td>8</td>\n",
       "      <td>2018</td>\n",
       "      <td>5</td>\n",
       "      <td>5</td>\n",
       "      <td>2392</td>\n",
       "      <td>239.0</td>\n",
       "    </tr>\n",
       "    <tr>\n",
       "      <th>274210</th>\n",
       "      <td>478278</td>\n",
       "      <td>British Columbia</td>\n",
       "      <td>Vancouver</td>\n",
       "      <td>Male</td>\n",
       "      <td>College</td>\n",
       "      <td>NaN</td>\n",
       "      <td>Star</td>\n",
       "      <td>2606.05</td>\n",
       "      <td>Standard</td>\n",
       "      <td>2013</td>\n",
       "      <td>8</td>\n",
       "      <td>2017</td>\n",
       "      <td>12</td>\n",
       "      <td>3</td>\n",
       "      <td>3456</td>\n",
       "      <td>345.0</td>\n",
       "    </tr>\n",
       "    <tr>\n",
       "      <th>283159</th>\n",
       "      <td>282532</td>\n",
       "      <td>Quebec</td>\n",
       "      <td>Montreal</td>\n",
       "      <td>Female</td>\n",
       "      <td>College</td>\n",
       "      <td>NaN</td>\n",
       "      <td>Star</td>\n",
       "      <td>2703.27</td>\n",
       "      <td>Standard</td>\n",
       "      <td>2018</td>\n",
       "      <td>6</td>\n",
       "      <td>2017</td>\n",
       "      <td>8</td>\n",
       "      <td>0</td>\n",
       "      <td>0</td>\n",
       "      <td>0.0</td>\n",
       "    </tr>\n",
       "    <tr>\n",
       "      <th>238977</th>\n",
       "      <td>365346</td>\n",
       "      <td>Quebec</td>\n",
       "      <td>Montreal</td>\n",
       "      <td>Female</td>\n",
       "      <td>College</td>\n",
       "      <td>NaN</td>\n",
       "      <td>Star</td>\n",
       "      <td>1898.01</td>\n",
       "      <td>Standard</td>\n",
       "      <td>2015</td>\n",
       "      <td>5</td>\n",
       "      <td>2017</td>\n",
       "      <td>10</td>\n",
       "      <td>0</td>\n",
       "      <td>0</td>\n",
       "      <td>0.0</td>\n",
       "    </tr>\n",
       "  </tbody>\n",
       "</table>\n",
       "</div>"
      ],
      "text/plain": [
       "        Loyalty Number          Province       City  Gender Education  Salary  \\\n",
       "26655           256945          Manitoba   Winnipeg  Female   College     NaN   \n",
       "179150          963642     New Brunswick    Moncton    Male   College     NaN   \n",
       "274210          478278  British Columbia  Vancouver    Male   College     NaN   \n",
       "283159          282532            Quebec   Montreal  Female   College     NaN   \n",
       "238977          365346            Quebec   Montreal  Female   College     NaN   \n",
       "\n",
       "       Loyalty Card      CLV Enrollment Type  Enrollment Year  \\\n",
       "26655        Aurora  5331.82        Standard             2014   \n",
       "179150         Nova  6778.84        Standard             2016   \n",
       "274210         Star  2606.05        Standard             2013   \n",
       "283159         Star  2703.27        Standard             2018   \n",
       "238977         Star  1898.01        Standard             2015   \n",
       "\n",
       "        Enrollment Month  Year  Month  Flights Booked  Distance  \\\n",
       "26655                  1  2018      4               0         0   \n",
       "179150                 8  2018      5               5      2392   \n",
       "274210                 8  2017     12               3      3456   \n",
       "283159                 6  2017      8               0         0   \n",
       "238977                 5  2017     10               0         0   \n",
       "\n",
       "        Points Accumulated  \n",
       "26655                  0.0  \n",
       "179150               239.0  \n",
       "274210               345.0  \n",
       "283159                 0.0  \n",
       "238977                 0.0  "
      ]
     },
     "execution_count": 7,
     "metadata": {},
     "output_type": "execute_result"
    }
   ],
   "source": [
    "df[df[\"Salary\"].isna()].sample(5)"
   ]
  },
  {
   "cell_type": "code",
   "execution_count": 8,
   "metadata": {},
   "outputs": [
    {
     "data": {
      "text/plain": [
       "array(['College'], dtype=object)"
      ]
     },
     "execution_count": 8,
     "metadata": {},
     "output_type": "execute_result"
    }
   ],
   "source": [
    "df[df[\"Salary\"].isna()][\"Education\"].unique()"
   ]
  },
  {
   "cell_type": "code",
   "execution_count": 9,
   "metadata": {},
   "outputs": [
    {
     "data": {
      "text/plain": [
       "array([nan])"
      ]
     },
     "execution_count": 9,
     "metadata": {},
     "output_type": "execute_result"
    }
   ],
   "source": [
    "df[df[\"Education\"] == \"College\"][\"Salary\"].unique()"
   ]
  },
  {
   "cell_type": "code",
   "execution_count": 10,
   "metadata": {},
   "outputs": [
    {
     "data": {
      "text/plain": [
       "0.2532692688725976"
      ]
     },
     "execution_count": 10,
     "metadata": {},
     "output_type": "execute_result"
    }
   ],
   "source": [
    "df[\"Salary\"].isna().sum()/df.shape[0]"
   ]
  },
  {
   "cell_type": "markdown",
   "metadata": {},
   "source": [
    "Averiguamos que realmente los nulos de los salarios corrersponden a todos aquellos clientes que tienen un nivel educativo de College. La opción de eliminarlos no sería viable, ya que perdemos muchísimos datos (en torno a un 25% de ellos), por lo que podemos optar por imputarlos con los valores medios generales de los salarios de todo nuestro conjunto de datos. \n",
    "\n",
    "Antes de eso, vamos a tratar con otro problema que nos encontramos: salarios negativos."
   ]
  },
  {
   "cell_type": "code",
   "execution_count": 11,
   "metadata": {},
   "outputs": [
    {
     "data": {
      "text/plain": [
       "480"
      ]
     },
     "execution_count": 11,
     "metadata": {},
     "output_type": "execute_result"
    }
   ],
   "source": [
    "(df[\"Salary\"]<0).sum()"
   ]
  },
  {
   "cell_type": "markdown",
   "metadata": {},
   "source": [
    "Tenemos 480 negativos. Éstos no representan un porcentaje significante en nuestro conjunto, pero vamos a tratar de averiguar su origen."
   ]
  },
  {
   "cell_type": "code",
   "execution_count": 12,
   "metadata": {},
   "outputs": [
    {
     "data": {
      "text/plain": [
       "Loyalty Number\n",
       "115505    24\n",
       "152016    24\n",
       "194065    24\n",
       "212128    24\n",
       "232755    24\n",
       "239955    24\n",
       "347013    24\n",
       "364596    24\n",
       "366599    24\n",
       "430398    24\n",
       "436087    24\n",
       "491242    24\n",
       "525245    24\n",
       "542976    24\n",
       "603070    24\n",
       "729561    24\n",
       "734647    24\n",
       "790475    24\n",
       "906428    24\n",
       "959977    24\n",
       "Name: Salary, dtype: int64"
      ]
     },
     "execution_count": 12,
     "metadata": {},
     "output_type": "execute_result"
    }
   ],
   "source": [
    "df[df[\"Salary\"]<0].groupby([\"Loyalty Number\"])[\"Salary\"].count()"
   ]
  },
  {
   "cell_type": "markdown",
   "metadata": {},
   "source": [
    "Vemos que los datos vienen de 24 registros por cliente de unos 20 clientes. Ya que los registros se hacen mensualmente, estos son errores que surgieron durante los 2 años de los registros. \n",
    "\n",
    "Veamos algunos datos más que puedan darnos más información sobre el origen de estos datos."
   ]
  },
  {
   "cell_type": "code",
   "execution_count": 13,
   "metadata": {},
   "outputs": [
    {
     "name": "stdout",
     "output_type": "stream",
     "text": [
      "Enrollment Types: ['2018 Promotion']\n",
      "Education Levels: ['High School or Below' 'Bachelor']\n",
      "Province: ['Star' 'Aurora' 'Nova']\n"
     ]
    }
   ],
   "source": [
    "print(f'Enrollment Types: {df[df[\"Salary\"]<0][\"Enrollment Type\"].unique()}')\n",
    "print(f'Education Levels: {df[df[\"Salary\"]<0][\"Education\"].unique()}')\n",
    "print(f'Province: {df[df[\"Salary\"]<0][\"Loyalty Card\"].unique()}')"
   ]
  },
  {
   "cell_type": "markdown",
   "metadata": {},
   "source": [
    "Vemos que provienen de Enrollment Type: 2018 Promotion y Education Level High School or Below y Bachelor. De hecho:"
   ]
  },
  {
   "cell_type": "code",
   "execution_count": 14,
   "metadata": {},
   "outputs": [
    {
     "data": {
      "text/plain": [
       "Education\n",
       "Bachelor                19\n",
       "High School or Below     1\n",
       "Name: Loyalty Number, dtype: int64"
      ]
     },
     "execution_count": 14,
     "metadata": {},
     "output_type": "execute_result"
    }
   ],
   "source": [
    "df[df[\"Salary\"]<0].groupby(\"Education\")[\"Loyalty Number\"].nunique()"
   ]
  },
  {
   "cell_type": "markdown",
   "metadata": {},
   "source": [
    "Hay solo 1 de High School or Below, y el resto son Bachelor. Podemos optar por rellenar estos datos con medias de datos de perfiles similares, de tal manera que mantendremos estos registros ya que nos pueden aportar información importante, mientras que no supondrán un impacto tan grande en el cálculo de las métricas."
   ]
  },
  {
   "cell_type": "code",
   "execution_count": 15,
   "metadata": {},
   "outputs": [],
   "source": [
    "#! Primera versión\n",
    "\n",
    "def find_similar(df, id, similarities):\n",
    "    df_filter = df.copy()\n",
    "    for s in similarities:\n",
    "        # print(df_filter[s].unique())\n",
    "        df_filter = df_filter[df_filter[s]==df_filter.loc[id][s]]\n",
    "        # print(df_filter[s].unique())\n",
    "    return df_filter\n",
    "\n",
    "def fill_values(df, id, val, col):\n",
    "    df_fill = df.copy()\n",
    "    df_fill.loc[id, col] = val\n",
    "    return df_fill\n",
    "\n",
    "# for i in tqdm(df[df[\"Salary\"]<0].index):\n",
    "#     df_filtered = find_similar(df, i, similarities=[\"Education\", \"Enrollment Type\"])\n",
    "#     salary_mean = int(df_filtered[\"Salary\"].mean())\n",
    "#     df = fill_values(df, i, salary_mean, \"Salary\")"
   ]
  },
  {
   "cell_type": "code",
   "execution_count": 16,
   "metadata": {},
   "outputs": [],
   "source": [
    "# Versión optimizada\n",
    "\n",
    "def fill_missing_with_similar(data, target_col, condition, similarity_cols):\n",
    "    valid_values = data[~condition(df[target_col])]\n",
    "    median_by_group = valid_values.groupby(similarity_cols)[target_col].median()\n",
    "    df_filtered = data.copy()\n",
    "    for idx in tqdm(data[condition(df[target_col])].index):\n",
    "        group_key = tuple(df.loc[idx, similarity_cols])    \n",
    "        group_mean = median_by_group.get(group_key, 0)\n",
    "        df_filtered.loc[idx, target_col] = int(group_mean)\n",
    "    return df_filtered"
   ]
  },
  {
   "cell_type": "markdown",
   "metadata": {},
   "source": [
    "Ahora procedemos a rellenar"
   ]
  },
  {
   "cell_type": "code",
   "execution_count": 17,
   "metadata": {},
   "outputs": [
    {
     "name": "stderr",
     "output_type": "stream",
     "text": [
      "100%|██████████| 480/480 [00:00<00:00, 1291.62it/s]\n",
      "100%|██████████| 102260/102260 [01:27<00:00, 1167.90it/s]\n"
     ]
    }
   ],
   "source": [
    "df = fill_missing_with_similar(df, \"Salary\", lambda x: x<0, [\"Education\", \"Loyalty Card\", \"Enrollment Type\", \"Gender\"])\n",
    "df = fill_missing_with_similar(df, \"Salary\", lambda x: x.isna(), [\"Loyalty Card\", \"Enrollment Type\", \"Gender\"])"
   ]
  },
  {
   "cell_type": "code",
   "execution_count": 18,
   "metadata": {},
   "outputs": [
    {
     "data": {
      "text/html": [
       "<div>\n",
       "<style scoped>\n",
       "    .dataframe tbody tr th:only-of-type {\n",
       "        vertical-align: middle;\n",
       "    }\n",
       "\n",
       "    .dataframe tbody tr th {\n",
       "        vertical-align: top;\n",
       "    }\n",
       "\n",
       "    .dataframe thead th {\n",
       "        text-align: right;\n",
       "    }\n",
       "</style>\n",
       "<table border=\"1\" class=\"dataframe\">\n",
       "  <thead>\n",
       "    <tr style=\"text-align: right;\">\n",
       "      <th></th>\n",
       "      <th>Loyalty Number</th>\n",
       "      <th>Province</th>\n",
       "      <th>City</th>\n",
       "      <th>Gender</th>\n",
       "      <th>Education</th>\n",
       "      <th>Salary</th>\n",
       "      <th>Loyalty Card</th>\n",
       "      <th>CLV</th>\n",
       "      <th>Enrollment Type</th>\n",
       "      <th>Enrollment Year</th>\n",
       "      <th>Enrollment Month</th>\n",
       "      <th>Year</th>\n",
       "      <th>Month</th>\n",
       "      <th>Flights Booked</th>\n",
       "      <th>Distance</th>\n",
       "      <th>Points Accumulated</th>\n",
       "    </tr>\n",
       "  </thead>\n",
       "  <tbody>\n",
       "    <tr>\n",
       "      <th>70774</th>\n",
       "      <td>135554</td>\n",
       "      <td>British Columbia</td>\n",
       "      <td>Vancouver</td>\n",
       "      <td>Male</td>\n",
       "      <td>Bachelor</td>\n",
       "      <td>94584.0</td>\n",
       "      <td>Aurora</td>\n",
       "      <td>9247.55</td>\n",
       "      <td>Standard</td>\n",
       "      <td>2014</td>\n",
       "      <td>7</td>\n",
       "      <td>2018</td>\n",
       "      <td>11</td>\n",
       "      <td>13</td>\n",
       "      <td>1248</td>\n",
       "      <td>124.0</td>\n",
       "    </tr>\n",
       "    <tr>\n",
       "      <th>257421</th>\n",
       "      <td>513170</td>\n",
       "      <td>Ontario</td>\n",
       "      <td>Toronto</td>\n",
       "      <td>Male</td>\n",
       "      <td>Bachelor</td>\n",
       "      <td>47412.0</td>\n",
       "      <td>Star</td>\n",
       "      <td>2459.17</td>\n",
       "      <td>Standard</td>\n",
       "      <td>2014</td>\n",
       "      <td>7</td>\n",
       "      <td>2018</td>\n",
       "      <td>10</td>\n",
       "      <td>0</td>\n",
       "      <td>0</td>\n",
       "      <td>0.0</td>\n",
       "    </tr>\n",
       "    <tr>\n",
       "      <th>294924</th>\n",
       "      <td>282041</td>\n",
       "      <td>British Columbia</td>\n",
       "      <td>Vancouver</td>\n",
       "      <td>Male</td>\n",
       "      <td>College</td>\n",
       "      <td>73708.0</td>\n",
       "      <td>Star</td>\n",
       "      <td>3200.80</td>\n",
       "      <td>Standard</td>\n",
       "      <td>2013</td>\n",
       "      <td>10</td>\n",
       "      <td>2018</td>\n",
       "      <td>1</td>\n",
       "      <td>0</td>\n",
       "      <td>0</td>\n",
       "      <td>0.0</td>\n",
       "    </tr>\n",
       "    <tr>\n",
       "      <th>41016</th>\n",
       "      <td>687951</td>\n",
       "      <td>British Columbia</td>\n",
       "      <td>Vancouver</td>\n",
       "      <td>Female</td>\n",
       "      <td>College</td>\n",
       "      <td>75383.0</td>\n",
       "      <td>Aurora</td>\n",
       "      <td>6355.68</td>\n",
       "      <td>Standard</td>\n",
       "      <td>2017</td>\n",
       "      <td>4</td>\n",
       "      <td>2017</td>\n",
       "      <td>1</td>\n",
       "      <td>0</td>\n",
       "      <td>0</td>\n",
       "      <td>0.0</td>\n",
       "    </tr>\n",
       "    <tr>\n",
       "      <th>39795</th>\n",
       "      <td>455991</td>\n",
       "      <td>British Columbia</td>\n",
       "      <td>Vancouver</td>\n",
       "      <td>Female</td>\n",
       "      <td>Bachelor</td>\n",
       "      <td>70746.0</td>\n",
       "      <td>Aurora</td>\n",
       "      <td>6225.02</td>\n",
       "      <td>Standard</td>\n",
       "      <td>2018</td>\n",
       "      <td>11</td>\n",
       "      <td>2017</td>\n",
       "      <td>4</td>\n",
       "      <td>0</td>\n",
       "      <td>0</td>\n",
       "      <td>0.0</td>\n",
       "    </tr>\n",
       "  </tbody>\n",
       "</table>\n",
       "</div>"
      ],
      "text/plain": [
       "        Loyalty Number          Province       City  Gender Education  \\\n",
       "70774           135554  British Columbia  Vancouver    Male  Bachelor   \n",
       "257421          513170           Ontario    Toronto    Male  Bachelor   \n",
       "294924          282041  British Columbia  Vancouver    Male   College   \n",
       "41016           687951  British Columbia  Vancouver  Female   College   \n",
       "39795           455991  British Columbia  Vancouver  Female  Bachelor   \n",
       "\n",
       "         Salary Loyalty Card      CLV Enrollment Type  Enrollment Year  \\\n",
       "70774   94584.0       Aurora  9247.55        Standard             2014   \n",
       "257421  47412.0         Star  2459.17        Standard             2014   \n",
       "294924  73708.0         Star  3200.80        Standard             2013   \n",
       "41016   75383.0       Aurora  6355.68        Standard             2017   \n",
       "39795   70746.0       Aurora  6225.02        Standard             2018   \n",
       "\n",
       "        Enrollment Month  Year  Month  Flights Booked  Distance  \\\n",
       "70774                  7  2018     11              13      1248   \n",
       "257421                 7  2018     10               0         0   \n",
       "294924                10  2018      1               0         0   \n",
       "41016                  4  2017      1               0         0   \n",
       "39795                 11  2017      4               0         0   \n",
       "\n",
       "        Points Accumulated  \n",
       "70774                124.0  \n",
       "257421                 0.0  \n",
       "294924                 0.0  \n",
       "41016                  0.0  \n",
       "39795                  0.0  "
      ]
     },
     "execution_count": 18,
     "metadata": {},
     "output_type": "execute_result"
    }
   ],
   "source": [
    "df.sample(5)"
   ]
  },
  {
   "cell_type": "code",
   "execution_count": 19,
   "metadata": {},
   "outputs": [
    {
     "name": "stdout",
     "output_type": "stream",
     "text": [
      "<class 'pandas.core.frame.DataFrame'>\n",
      "Index: 403760 entries, 0 to 405623\n",
      "Data columns (total 16 columns):\n",
      " #   Column              Non-Null Count   Dtype  \n",
      "---  ------              --------------   -----  \n",
      " 0   Loyalty Number      403760 non-null  int64  \n",
      " 1   Province            403760 non-null  object \n",
      " 2   City                403760 non-null  object \n",
      " 3   Gender              403760 non-null  object \n",
      " 4   Education           403760 non-null  object \n",
      " 5   Salary              403760 non-null  float64\n",
      " 6   Loyalty Card        403760 non-null  object \n",
      " 7   CLV                 403760 non-null  float64\n",
      " 8   Enrollment Type     403760 non-null  object \n",
      " 9   Enrollment Year     403760 non-null  int64  \n",
      " 10  Enrollment Month    403760 non-null  int64  \n",
      " 11  Year                403760 non-null  int64  \n",
      " 12  Month               403760 non-null  int64  \n",
      " 13  Flights Booked      403760 non-null  int64  \n",
      " 14  Distance            403760 non-null  int64  \n",
      " 15  Points Accumulated  403760 non-null  float64\n",
      "dtypes: float64(3), int64(7), object(6)\n",
      "memory usage: 68.5+ MB\n"
     ]
    }
   ],
   "source": [
    "df.info()"
   ]
  },
  {
   "cell_type": "markdown",
   "metadata": {},
   "source": [
    "Y así hemos podido tratar con datos inválidos. Por último renombremos las columnas para una fácil manipulación."
   ]
  },
  {
   "cell_type": "code",
   "execution_count": 20,
   "metadata": {},
   "outputs": [],
   "source": [
    "df.columns = df.columns.str.lower().str.replace(\" \", \"_\")"
   ]
  },
  {
   "cell_type": "code",
   "execution_count": 21,
   "metadata": {},
   "outputs": [
    {
     "data": {
      "text/html": [
       "<div>\n",
       "<style scoped>\n",
       "    .dataframe tbody tr th:only-of-type {\n",
       "        vertical-align: middle;\n",
       "    }\n",
       "\n",
       "    .dataframe tbody tr th {\n",
       "        vertical-align: top;\n",
       "    }\n",
       "\n",
       "    .dataframe thead th {\n",
       "        text-align: right;\n",
       "    }\n",
       "</style>\n",
       "<table border=\"1\" class=\"dataframe\">\n",
       "  <thead>\n",
       "    <tr style=\"text-align: right;\">\n",
       "      <th></th>\n",
       "      <th>loyalty_number</th>\n",
       "      <th>province</th>\n",
       "      <th>city</th>\n",
       "      <th>gender</th>\n",
       "      <th>education</th>\n",
       "      <th>salary</th>\n",
       "      <th>loyalty_card</th>\n",
       "      <th>clv</th>\n",
       "      <th>enrollment_type</th>\n",
       "      <th>enrollment_year</th>\n",
       "      <th>enrollment_month</th>\n",
       "      <th>year</th>\n",
       "      <th>month</th>\n",
       "      <th>flights_booked</th>\n",
       "      <th>distance</th>\n",
       "      <th>points_accumulated</th>\n",
       "    </tr>\n",
       "  </thead>\n",
       "  <tbody>\n",
       "    <tr>\n",
       "      <th>0</th>\n",
       "      <td>480934</td>\n",
       "      <td>Ontario</td>\n",
       "      <td>Toronto</td>\n",
       "      <td>Female</td>\n",
       "      <td>Bachelor</td>\n",
       "      <td>83236.0</td>\n",
       "      <td>Star</td>\n",
       "      <td>3839.14</td>\n",
       "      <td>Standard</td>\n",
       "      <td>2016</td>\n",
       "      <td>2</td>\n",
       "      <td>2017</td>\n",
       "      <td>1</td>\n",
       "      <td>0</td>\n",
       "      <td>0</td>\n",
       "      <td>0.0</td>\n",
       "    </tr>\n",
       "    <tr>\n",
       "      <th>1</th>\n",
       "      <td>480934</td>\n",
       "      <td>Ontario</td>\n",
       "      <td>Toronto</td>\n",
       "      <td>Female</td>\n",
       "      <td>Bachelor</td>\n",
       "      <td>83236.0</td>\n",
       "      <td>Star</td>\n",
       "      <td>3839.14</td>\n",
       "      <td>Standard</td>\n",
       "      <td>2016</td>\n",
       "      <td>2</td>\n",
       "      <td>2017</td>\n",
       "      <td>2</td>\n",
       "      <td>3</td>\n",
       "      <td>2823</td>\n",
       "      <td>282.0</td>\n",
       "    </tr>\n",
       "  </tbody>\n",
       "</table>\n",
       "</div>"
      ],
      "text/plain": [
       "   loyalty_number province     city  gender education   salary loyalty_card  \\\n",
       "0          480934  Ontario  Toronto  Female  Bachelor  83236.0         Star   \n",
       "1          480934  Ontario  Toronto  Female  Bachelor  83236.0         Star   \n",
       "\n",
       "       clv enrollment_type  enrollment_year  enrollment_month  year  month  \\\n",
       "0  3839.14        Standard             2016                 2  2017      1   \n",
       "1  3839.14        Standard             2016                 2  2017      2   \n",
       "\n",
       "   flights_booked  distance  points_accumulated  \n",
       "0               0         0                 0.0  \n",
       "1               3      2823               282.0  "
      ]
     },
     "execution_count": 21,
     "metadata": {},
     "output_type": "execute_result"
    }
   ],
   "source": [
    "df.head(2)"
   ]
  },
  {
   "cell_type": "markdown",
   "metadata": {},
   "source": [
    "## Ejercicio 2:\n",
    "Determina si existe una diferencia significativa en el número de vuelos reservados entre los diferentes niveles educativos.\n",
    "\n",
    " Pasos a seguir:\n",
    "\n",
    "   - Definición de la hipótesis.\n",
    "   - Prueba de hipótesis\n",
    "   - Análisis de resultados\n",
    "   - Conclusiones\n",
    "   \n"
   ]
  },
  {
   "cell_type": "markdown",
   "metadata": {},
   "source": [
    "Para ver si hay una diferencia significativa en el número de vuelos reservados entre los diferentes niveles educativos, habrá que plantear una hipótesis de igualdad de medias (o medianas en un caso no paramétrico). El test a ejecutar dependerá de la naturaleza de nuestras distribuciones. Vamos a comprobar primero con qué estamos lidiando."
   ]
  },
  {
   "cell_type": "code",
   "execution_count": 22,
   "metadata": {},
   "outputs": [
    {
     "data": {
      "image/png": "[encoded data removed]",
      "text/plain": [
       "<Figure size 1600x1000 with 5 Axes>"
      ]
     },
     "metadata": {},
     "output_type": "display_data"
    }
   ],
   "source": [
    "rows = 2\n",
    "cols = 3\n",
    "\n",
    "educations = df[\"education\"].unique()\n",
    "colors = [\"tomato\", \"gold\", \"forestgreen\", \"deepskyblue\", \"purple\"]\n",
    "\n",
    "fig, axes = plt.subplots(nrows = rows, ncols = cols, figsize = (8,5), dpi = 200)\n",
    "axes = axes.flat\n",
    "plt.suptitle(\"Número de vuelos reservados por educación, agrupados por clientes\")\n",
    "for i in range(len(educations)):\n",
    "    axes[i].set_title(educations[i])\n",
    "    sns.histplot(data = df[df[\"education\"] == educations[i]],\n",
    "                  x = \"flights_booked\", ax=axes[i], color=colors[i], kde=True)\n",
    "    axes[i].set_xlim(0,max(df[\"flights_booked\"]))\n",
    "    axes[i].set_xlabel(\"Vuelos reservados\")\n",
    "plt.tight_layout()\n",
    "\n",
    "plt.delaxes(axes[-1])\n",
    "plt.show()"
   ]
  },
  {
   "cell_type": "code",
   "execution_count": 34,
   "metadata": {},
   "outputs": [
    {
     "data": {
      "application/vnd.jupyter.widget-view+json": {
       "model_id": "be43e6fc5af447aeb01c088e38b7fd88",
       "version_major": 2,
       "version_minor": 0
      },
      "image/png": "[encoded data removed]",
      "text/html": [
       "\n",
       "            <div style=\"display: inline-block;\">\n",
       "                <div class=\"jupyter-widgets widget-label\" style=\"text-align: center;\">\n",
       "                    Figure\n",
       "                </div>\n",
       "                <img src='data:image/png;base64,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' width=640.0/>\n",
       "            </div>\n",
       "        "
      ],
      "text/plain": [
       "Canvas(toolbar=Toolbar(toolitems=[('Home', 'Reset original view', 'home', 'home'), ('Back', 'Back to previous …"
      ]
     },
     "metadata": {},
     "output_type": "display_data"
    }
   ],
   "source": [
    "%matplotlib widget\n",
    "\n",
    "plt.figure()\n",
    "sns.histplot(data = df[df[\"education\"] == educations[i]],\n",
    "                x = \"flights_booked\", color=colors[i], kde=True)\n",
    "plt.show()"
   ]
  },
  {
   "cell_type": "code",
   "execution_count": 24,
   "metadata": {},
   "outputs": [
    {
     "data": {
      "text/plain": [
       "education\n",
       "Bachelor                252567\n",
       "College                 102260\n",
       "Doctor                   17731\n",
       "High School or Below     18915\n",
       "Master                   12287\n",
       "Name: loyalty_number, dtype: int64"
      ]
     },
     "execution_count": 24,
     "metadata": {},
     "output_type": "execute_result"
    }
   ],
   "source": [
    "df.groupby(\"education\")[\"loyalty_number\"].count()"
   ]
  },
  {
   "cell_type": "markdown",
   "metadata": {},
   "source": [
    "Ya que tratamos con muestras grandes, para comprobar normalidad usaremos un test de kolmogorov de comparación de distribuciones."
   ]
  },
  {
   "cell_type": "code",
   "execution_count": 25,
   "metadata": {},
   "outputs": [],
   "source": [
    "def test_norm(df, col, sig_level):\n",
    "    media = np.mean(df[col])\n",
    "    sd = np.std(df[col])\n",
    "    normal = np.random.normal(loc = media, scale = sd, size = df[col].shape[0])   \n",
    "    pval = stats.kstest(df[col], normal).pvalue\n",
    "    if pval < sig_level:\n",
    "        print(\"Se rechaza la hipotesis nula, no es normal.\")\n",
    "    elif pval > sig_level:\n",
    "        print(\"No se rechaza la hipótesis nula, es normal.\")\n",
    "    return stats.kstest(df[col], normal)"
   ]
  },
  {
   "cell_type": "code",
   "execution_count": 26,
   "metadata": {},
   "outputs": [
    {
     "name": "stdout",
     "output_type": "stream",
     "text": [
      "Se rechaza la hipotesis nula, no es normal.\n",
      "Se rechaza la hipotesis nula, no es normal.\n",
      "Se rechaza la hipotesis nula, no es normal.\n",
      "Se rechaza la hipotesis nula, no es normal.\n",
      "Se rechaza la hipotesis nula, no es normal.\n"
     ]
    }
   ],
   "source": [
    "dfs_educations = [df[df[\"education\"] == edu] for edu in educations]\n",
    "for dataframe in dfs_educations:\n",
    "    test_norm(dataframe, \"flights_booked\", 0.05)"
   ]
  },
  {
   "cell_type": "markdown",
   "metadata": {},
   "source": [
    "Ninguna de las distribuciones es normal. Esto nos da paso a el uso de tests no paramétricos para igualdad de medianas."
   ]
  },
  {
   "cell_type": "code",
   "execution_count": 27,
   "metadata": {},
   "outputs": [],
   "source": [
    "def get_test(dep, *samples):\n",
    "    if len(samples) > 2:\n",
    "        print(\"More than 2 samples:\")\n",
    "        return stats.kruskal(*samples)\n",
    "    elif len(samples) == 2:\n",
    "        print(\"2 samples:\")\n",
    "        if dep:\n",
    "            return stats.wilcoxon(*samples)\n",
    "        else:\n",
    "            return stats.mannwhitneyu(*samples)\n",
    "    print(\"Necesitas al menos 2 muestras.\")"
   ]
  },
  {
   "cell_type": "code",
   "execution_count": 28,
   "metadata": {},
   "outputs": [
    {
     "name": "stdout",
     "output_type": "stream",
     "text": [
      "More than 2 samples:\n"
     ]
    },
    {
     "data": {
      "text/plain": [
       "KruskalResult(statistic=17.532618623121756, pvalue=0.0015225470219889365)"
      ]
     },
     "execution_count": 28,
     "metadata": {},
     "output_type": "execute_result"
    }
   ],
   "source": [
    "get_test(False, dfs_educations[0][\"flights_booked\"],\n",
    "          dfs_educations[1][\"flights_booked\"], dfs_educations[2][\"flights_booked\"], \n",
    "          dfs_educations[3][\"flights_booked\"], dfs_educations[4][\"flights_booked\"])"
   ]
  },
  {
   "cell_type": "markdown",
   "metadata": {},
   "source": [
    "El test nos dice que al menos dos de nuestras muestras tienen medianas significativamente diferentes. ¿Cuáles?"
   ]
  },
  {
   "cell_type": "code",
   "execution_count": 29,
   "metadata": {},
   "outputs": [
    {
     "data": {
      "text/html": [
       "<div>\n",
       "<style scoped>\n",
       "    .dataframe tbody tr th:only-of-type {\n",
       "        vertical-align: middle;\n",
       "    }\n",
       "\n",
       "    .dataframe tbody tr th {\n",
       "        vertical-align: top;\n",
       "    }\n",
       "\n",
       "    .dataframe thead th {\n",
       "        text-align: right;\n",
       "    }\n",
       "</style>\n",
       "<table border=\"1\" class=\"dataframe\">\n",
       "  <thead>\n",
       "    <tr style=\"text-align: right;\">\n",
       "      <th></th>\n",
       "      <th>loyalty_number</th>\n",
       "      <th>province</th>\n",
       "      <th>city</th>\n",
       "      <th>gender</th>\n",
       "      <th>education</th>\n",
       "      <th>salary</th>\n",
       "      <th>loyalty_card</th>\n",
       "      <th>clv</th>\n",
       "      <th>enrollment_type</th>\n",
       "      <th>enrollment_year</th>\n",
       "      <th>enrollment_month</th>\n",
       "      <th>year</th>\n",
       "      <th>month</th>\n",
       "      <th>flights_booked</th>\n",
       "      <th>distance</th>\n",
       "      <th>points_accumulated</th>\n",
       "    </tr>\n",
       "  </thead>\n",
       "  <tbody>\n",
       "    <tr>\n",
       "      <th>0</th>\n",
       "      <td>480934</td>\n",
       "      <td>Ontario</td>\n",
       "      <td>Toronto</td>\n",
       "      <td>Female</td>\n",
       "      <td>Bachelor</td>\n",
       "      <td>83236.0</td>\n",
       "      <td>Star</td>\n",
       "      <td>3839.14</td>\n",
       "      <td>Standard</td>\n",
       "      <td>2016</td>\n",
       "      <td>2</td>\n",
       "      <td>2017</td>\n",
       "      <td>1</td>\n",
       "      <td>0</td>\n",
       "      <td>0</td>\n",
       "      <td>0.0</td>\n",
       "    </tr>\n",
       "    <tr>\n",
       "      <th>1</th>\n",
       "      <td>480934</td>\n",
       "      <td>Ontario</td>\n",
       "      <td>Toronto</td>\n",
       "      <td>Female</td>\n",
       "      <td>Bachelor</td>\n",
       "      <td>83236.0</td>\n",
       "      <td>Star</td>\n",
       "      <td>3839.14</td>\n",
       "      <td>Standard</td>\n",
       "      <td>2016</td>\n",
       "      <td>2</td>\n",
       "      <td>2017</td>\n",
       "      <td>2</td>\n",
       "      <td>3</td>\n",
       "      <td>2823</td>\n",
       "      <td>282.0</td>\n",
       "    </tr>\n",
       "    <tr>\n",
       "      <th>2</th>\n",
       "      <td>480934</td>\n",
       "      <td>Ontario</td>\n",
       "      <td>Toronto</td>\n",
       "      <td>Female</td>\n",
       "      <td>Bachelor</td>\n",
       "      <td>83236.0</td>\n",
       "      <td>Star</td>\n",
       "      <td>3839.14</td>\n",
       "      <td>Standard</td>\n",
       "      <td>2016</td>\n",
       "      <td>2</td>\n",
       "      <td>2017</td>\n",
       "      <td>3</td>\n",
       "      <td>0</td>\n",
       "      <td>0</td>\n",
       "      <td>0.0</td>\n",
       "    </tr>\n",
       "    <tr>\n",
       "      <th>3</th>\n",
       "      <td>480934</td>\n",
       "      <td>Ontario</td>\n",
       "      <td>Toronto</td>\n",
       "      <td>Female</td>\n",
       "      <td>Bachelor</td>\n",
       "      <td>83236.0</td>\n",
       "      <td>Star</td>\n",
       "      <td>3839.14</td>\n",
       "      <td>Standard</td>\n",
       "      <td>2016</td>\n",
       "      <td>2</td>\n",
       "      <td>2017</td>\n",
       "      <td>4</td>\n",
       "      <td>0</td>\n",
       "      <td>0</td>\n",
       "      <td>0.0</td>\n",
       "    </tr>\n",
       "    <tr>\n",
       "      <th>4</th>\n",
       "      <td>480934</td>\n",
       "      <td>Ontario</td>\n",
       "      <td>Toronto</td>\n",
       "      <td>Female</td>\n",
       "      <td>Bachelor</td>\n",
       "      <td>83236.0</td>\n",
       "      <td>Star</td>\n",
       "      <td>3839.14</td>\n",
       "      <td>Standard</td>\n",
       "      <td>2016</td>\n",
       "      <td>2</td>\n",
       "      <td>2018</td>\n",
       "      <td>10</td>\n",
       "      <td>6</td>\n",
       "      <td>3352</td>\n",
       "      <td>335.0</td>\n",
       "    </tr>\n",
       "    <tr>\n",
       "      <th>...</th>\n",
       "      <td>...</td>\n",
       "      <td>...</td>\n",
       "      <td>...</td>\n",
       "      <td>...</td>\n",
       "      <td>...</td>\n",
       "      <td>...</td>\n",
       "      <td>...</td>\n",
       "      <td>...</td>\n",
       "      <td>...</td>\n",
       "      <td>...</td>\n",
       "      <td>...</td>\n",
       "      <td>...</td>\n",
       "      <td>...</td>\n",
       "      <td>...</td>\n",
       "      <td>...</td>\n",
       "      <td>...</td>\n",
       "    </tr>\n",
       "    <tr>\n",
       "      <th>405619</th>\n",
       "      <td>652627</td>\n",
       "      <td>Manitoba</td>\n",
       "      <td>Winnipeg</td>\n",
       "      <td>Female</td>\n",
       "      <td>Bachelor</td>\n",
       "      <td>75049.0</td>\n",
       "      <td>Star</td>\n",
       "      <td>83325.38</td>\n",
       "      <td>Standard</td>\n",
       "      <td>2015</td>\n",
       "      <td>12</td>\n",
       "      <td>2018</td>\n",
       "      <td>8</td>\n",
       "      <td>0</td>\n",
       "      <td>0</td>\n",
       "      <td>0.0</td>\n",
       "    </tr>\n",
       "    <tr>\n",
       "      <th>405620</th>\n",
       "      <td>652627</td>\n",
       "      <td>Manitoba</td>\n",
       "      <td>Winnipeg</td>\n",
       "      <td>Female</td>\n",
       "      <td>Bachelor</td>\n",
       "      <td>75049.0</td>\n",
       "      <td>Star</td>\n",
       "      <td>83325.38</td>\n",
       "      <td>Standard</td>\n",
       "      <td>2015</td>\n",
       "      <td>12</td>\n",
       "      <td>2018</td>\n",
       "      <td>9</td>\n",
       "      <td>0</td>\n",
       "      <td>0</td>\n",
       "      <td>0.0</td>\n",
       "    </tr>\n",
       "    <tr>\n",
       "      <th>405621</th>\n",
       "      <td>652627</td>\n",
       "      <td>Manitoba</td>\n",
       "      <td>Winnipeg</td>\n",
       "      <td>Female</td>\n",
       "      <td>Bachelor</td>\n",
       "      <td>75049.0</td>\n",
       "      <td>Star</td>\n",
       "      <td>83325.38</td>\n",
       "      <td>Standard</td>\n",
       "      <td>2015</td>\n",
       "      <td>12</td>\n",
       "      <td>2018</td>\n",
       "      <td>10</td>\n",
       "      <td>0</td>\n",
       "      <td>0</td>\n",
       "      <td>0.0</td>\n",
       "    </tr>\n",
       "    <tr>\n",
       "      <th>405622</th>\n",
       "      <td>652627</td>\n",
       "      <td>Manitoba</td>\n",
       "      <td>Winnipeg</td>\n",
       "      <td>Female</td>\n",
       "      <td>Bachelor</td>\n",
       "      <td>75049.0</td>\n",
       "      <td>Star</td>\n",
       "      <td>83325.38</td>\n",
       "      <td>Standard</td>\n",
       "      <td>2015</td>\n",
       "      <td>12</td>\n",
       "      <td>2018</td>\n",
       "      <td>11</td>\n",
       "      <td>0</td>\n",
       "      <td>0</td>\n",
       "      <td>0.0</td>\n",
       "    </tr>\n",
       "    <tr>\n",
       "      <th>405623</th>\n",
       "      <td>652627</td>\n",
       "      <td>Manitoba</td>\n",
       "      <td>Winnipeg</td>\n",
       "      <td>Female</td>\n",
       "      <td>Bachelor</td>\n",
       "      <td>75049.0</td>\n",
       "      <td>Star</td>\n",
       "      <td>83325.38</td>\n",
       "      <td>Standard</td>\n",
       "      <td>2015</td>\n",
       "      <td>12</td>\n",
       "      <td>2018</td>\n",
       "      <td>12</td>\n",
       "      <td>0</td>\n",
       "      <td>0</td>\n",
       "      <td>0.0</td>\n",
       "    </tr>\n",
       "  </tbody>\n",
       "</table>\n",
       "<p>403760 rows × 16 columns</p>\n",
       "</div>"
      ],
      "text/plain": [
       "        loyalty_number  province      city  gender education   salary  \\\n",
       "0               480934   Ontario   Toronto  Female  Bachelor  83236.0   \n",
       "1               480934   Ontario   Toronto  Female  Bachelor  83236.0   \n",
       "2               480934   Ontario   Toronto  Female  Bachelor  83236.0   \n",
       "3               480934   Ontario   Toronto  Female  Bachelor  83236.0   \n",
       "4               480934   Ontario   Toronto  Female  Bachelor  83236.0   \n",
       "...                ...       ...       ...     ...       ...      ...   \n",
       "405619          652627  Manitoba  Winnipeg  Female  Bachelor  75049.0   \n",
       "405620          652627  Manitoba  Winnipeg  Female  Bachelor  75049.0   \n",
       "405621          652627  Manitoba  Winnipeg  Female  Bachelor  75049.0   \n",
       "405622          652627  Manitoba  Winnipeg  Female  Bachelor  75049.0   \n",
       "405623          652627  Manitoba  Winnipeg  Female  Bachelor  75049.0   \n",
       "\n",
       "       loyalty_card       clv enrollment_type  enrollment_year  \\\n",
       "0              Star   3839.14        Standard             2016   \n",
       "1              Star   3839.14        Standard             2016   \n",
       "2              Star   3839.14        Standard             2016   \n",
       "3              Star   3839.14        Standard             2016   \n",
       "4              Star   3839.14        Standard             2016   \n",
       "...             ...       ...             ...              ...   \n",
       "405619         Star  83325.38        Standard             2015   \n",
       "405620         Star  83325.38        Standard             2015   \n",
       "405621         Star  83325.38        Standard             2015   \n",
       "405622         Star  83325.38        Standard             2015   \n",
       "405623         Star  83325.38        Standard             2015   \n",
       "\n",
       "        enrollment_month  year  month  flights_booked  distance  \\\n",
       "0                      2  2017      1               0         0   \n",
       "1                      2  2017      2               3      2823   \n",
       "2                      2  2017      3               0         0   \n",
       "3                      2  2017      4               0         0   \n",
       "4                      2  2018     10               6      3352   \n",
       "...                  ...   ...    ...             ...       ...   \n",
       "405619                12  2018      8               0         0   \n",
       "405620                12  2018      9               0         0   \n",
       "405621                12  2018     10               0         0   \n",
       "405622                12  2018     11               0         0   \n",
       "405623                12  2018     12               0         0   \n",
       "\n",
       "        points_accumulated  \n",
       "0                      0.0  \n",
       "1                    282.0  \n",
       "2                      0.0  \n",
       "3                      0.0  \n",
       "4                    335.0  \n",
       "...                    ...  \n",
       "405619                 0.0  \n",
       "405620                 0.0  \n",
       "405621                 0.0  \n",
       "405622                 0.0  \n",
       "405623                 0.0  \n",
       "\n",
       "[403760 rows x 16 columns]"
      ]
     },
     "execution_count": 29,
     "metadata": {},
     "output_type": "execute_result"
    }
   ],
   "source": [
    "df"
   ]
  },
  {
   "cell_type": "code",
   "execution_count": 30,
   "metadata": {},
   "outputs": [
    {
     "data": {
      "text/plain": [
       "education\n",
       "Bachelor                4.110288\n",
       "College                 4.169744\n",
       "Doctor                  4.175512\n",
       "High School or Below    4.176209\n",
       "Master                  4.200700\n",
       "Name: flights_booked, dtype: float64"
      ]
     },
     "execution_count": 30,
     "metadata": {},
     "output_type": "execute_result"
    }
   ],
   "source": [
    "df.groupby(\"education\")[\"flights_booked\"].mean()"
   ]
  },
  {
   "cell_type": "code",
   "execution_count": 31,
   "metadata": {},
   "outputs": [
    {
     "data": {
      "text/plain": [
       "<Axes: ylabel='flights_booked'>"
      ]
     },
     "execution_count": 31,
     "metadata": {},
     "output_type": "execute_result"
    },
    {
     "data": {
      "image/png": "[encoded data removed]",
      "text/plain": [
       "<Figure size 640x480 with 1 Axes>"
      ]
     },
     "metadata": {},
     "output_type": "display_data"
    }
   ],
   "source": [
    "sns.boxplot(data = df[[\"education\", \"flights_booked\"]], y = \"flights_booked\", hue = \"education\")"
   ]
  },
  {
   "cell_type": "markdown",
   "metadata": {},
   "source": [
    "## Ejercicio 3:\n",
    "Determina si existe una diferencia significativa en el salario de los clientes en función del género de los mismos.\n",
    "\n",
    "Pasos a seguir:\n",
    "   - Definición de la hipótesis.\n",
    "   - Prueba de hipótesis\n",
    "   - Análisis de resultados\n",
    "   - Conclusiones"
   ]
  },
  {
   "cell_type": "code",
   "execution_count": null,
   "metadata": {},
   "outputs": [],
   "source": []
  }
 ],
 "metadata": {
  "kernelspec": {
   "display_name": "Python 3",
   "language": "python",
   "name": "python3"
  },
  "language_info": {
   "codemirror_mode": {
    "name": "ipython",
    "version": 3
   },
   "file_extension": ".py",
   "mimetype": "text/x-python",
   "name": "python",
   "nbconvert_exporter": "python",
   "pygments_lexer": "ipython3",
   "version": "3.11.9"
  }
 },
 "nbformat": 4,
 "nbformat_minor": 2
}
