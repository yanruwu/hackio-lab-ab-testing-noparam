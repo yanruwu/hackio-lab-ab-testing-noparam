{
 "cells": [
  {
   "cell_type": "markdown",
   "metadata": {},
   "source": [
    "![hackio](https://github.com/Hack-io-Data/Imagenes/blob/main/01-LogosHackio/logo_celeste@4x.png?raw=true)\n"
   ]
  },
  {
   "cell_type": "markdown",
   "metadata": {},
   "source": [
    "# Laboratorio A/B Testing No Paramétricos\n",
    "\n",
    "**Aerolínea:** \n",
    "Alas del Mundo\n",
    "\n",
    "**Descripción de la Aerolínea**\n",
    "\n",
    "Alas del Mundo es una aerolínea internacional que opera una amplia red de rutas a nivel mundial. La compañía se enorgullece de ofrecer vuelos cómodos y asequibles a una variedad de destinos, atrayendo a una diversa gama de clientes.\n",
    "\n",
    "**Objetivo del Análisis**\n",
    "\n",
    "El objetivo de este ejercicio es determinar si existe una diferencia significativa en el número de vuelos reservados entre pasajeros con diferentes niveles educativos y si existe una diferencia significativa entre el género de sus clientes y su salario. La aerolínea desea entender mejor a sus clientes para poder personalizar sus campañas de marketing y mejorar sus estrategias de ventas.\n",
    "\n",
    "**Set de datos**\n",
    "\n",
    "El conjunto de datos *alas_del_mundo.csv* contiene información sobre clientes de la aerolínea Alas del Mundo. A continuación, tenemos una descripción de lo que nos podemos encontrar en el conjunto de datos:\n",
    "\n",
    "- **Loyalty Number**: Número de registro de cada uno de los clientes.\n",
    "\n",
    "- **Province**: Provincia de residencia del cliente.\n",
    "\n",
    "- **City**: Ciudad de residencia del cliente.\n",
    "\n",
    "- **Gender**: Género con el que se identifica el cliente.\n",
    "\n",
    "- **Education**: Nivel educativo del cliente.\n",
    "\n",
    "- **Salary**: Salario anual del cliente.\n",
    "\n",
    "- **Loyalty Card**: Nivel que tiene el cliente dentro del programa de fidelización de la aerolínea.\n",
    "\n",
    "- **CLV**: Valor total del cliente para la aerolínea a lo largo de toda su relación.\n",
    "\n",
    "- **Enrollment Type**: Forma de registro del cliente a la aerolínea.\n",
    "\n",
    "- **Enrollment Year**: Año de inscripción.\n",
    "\n",
    "- **Enrollment Month**: Mes de inscripción. \n",
    "\n",
    "- **Year**: Año en el que se realizan los vuelos.\n",
    "\n",
    "- **Month**: Mes en el que se realizan los vuelos.\n",
    "\n",
    "- **Flights Booked**: Vuelos reservados por el cliente en un mes y año concretos.\n",
    "\n",
    "- **Distance**: Distancia de vuelo del cliente en un mes y año concreto\n",
    "\n",
    "- **Points Accumulated**: Puntos acumulados por el cliente en un mes y año concretos.\n",
    "\n",
    "## Ejercicio 1:\n",
    "\n",
    "Antes de realizar el experimento A/B y formular hipótesis, es fundamental comprender a fondo el conjunto de datos y sus características. Para lograr esto, debes llevar a cabo un análisis exploratorio detallado de los datos (EDA), con el fin de familiarizarte con ellos y entender la información disponible.\n",
    "\n"
   ]
  },
  {
   "cell_type": "code",
   "execution_count": 1,
   "metadata": {},
   "outputs": [],
   "source": [
    "import pandas as pd\n",
    "import scipy.stats as stats\n",
    "import matplotlib.pyplot as plt\n",
    "import seaborn as sns\n",
    "from tqdm import tqdm\n",
    "import numpy as np"
   ]
  },
  {
   "cell_type": "code",
   "execution_count": 2,
   "metadata": {},
   "outputs": [],
   "source": [
    "df = pd.read_csv(\"datos/alas_del_mundo.csv\")"
   ]
  },
  {
   "cell_type": "code",
   "execution_count": 3,
   "metadata": {},
   "outputs": [
    {
     "data": {
      "text/html": [
       "<div>\n",
       "<style scoped>\n",
       "    .dataframe tbody tr th:only-of-type {\n",
       "        vertical-align: middle;\n",
       "    }\n",
       "\n",
       "    .dataframe tbody tr th {\n",
       "        vertical-align: top;\n",
       "    }\n",
       "\n",
       "    .dataframe thead th {\n",
       "        text-align: right;\n",
       "    }\n",
       "</style>\n",
       "<table border=\"1\" class=\"dataframe\">\n",
       "  <thead>\n",
       "    <tr style=\"text-align: right;\">\n",
       "      <th></th>\n",
       "      <th>Loyalty Number</th>\n",
       "      <th>Province</th>\n",
       "      <th>City</th>\n",
       "      <th>Gender</th>\n",
       "      <th>Education</th>\n",
       "      <th>Salary</th>\n",
       "      <th>Loyalty Card</th>\n",
       "      <th>CLV</th>\n",
       "      <th>Enrollment Type</th>\n",
       "      <th>Enrollment Year</th>\n",
       "      <th>Enrollment Month</th>\n",
       "      <th>Year</th>\n",
       "      <th>Month</th>\n",
       "      <th>Flights Booked</th>\n",
       "      <th>Distance</th>\n",
       "      <th>Points Accumulated</th>\n",
       "    </tr>\n",
       "  </thead>\n",
       "  <tbody>\n",
       "    <tr>\n",
       "      <th>92851</th>\n",
       "      <td>277375</td>\n",
       "      <td>Ontario</td>\n",
       "      <td>Toronto</td>\n",
       "      <td>Female</td>\n",
       "      <td>High School or Below</td>\n",
       "      <td>73956.0</td>\n",
       "      <td>Aurora</td>\n",
       "      <td>19582.47</td>\n",
       "      <td>Standard</td>\n",
       "      <td>2014</td>\n",
       "      <td>4</td>\n",
       "      <td>2018</td>\n",
       "      <td>7</td>\n",
       "      <td>0</td>\n",
       "      <td>0</td>\n",
       "      <td>0.0</td>\n",
       "    </tr>\n",
       "    <tr>\n",
       "      <th>189389</th>\n",
       "      <td>553943</td>\n",
       "      <td>British Columbia</td>\n",
       "      <td>Whistler</td>\n",
       "      <td>Male</td>\n",
       "      <td>College</td>\n",
       "      <td>NaN</td>\n",
       "      <td>Nova</td>\n",
       "      <td>7700.62</td>\n",
       "      <td>Standard</td>\n",
       "      <td>2012</td>\n",
       "      <td>9</td>\n",
       "      <td>2017</td>\n",
       "      <td>5</td>\n",
       "      <td>0</td>\n",
       "      <td>0</td>\n",
       "      <td>0.0</td>\n",
       "    </tr>\n",
       "    <tr>\n",
       "      <th>9673</th>\n",
       "      <td>712062</td>\n",
       "      <td>Ontario</td>\n",
       "      <td>Kingston</td>\n",
       "      <td>Male</td>\n",
       "      <td>Doctor</td>\n",
       "      <td>269011.0</td>\n",
       "      <td>Star</td>\n",
       "      <td>4570.67</td>\n",
       "      <td>Standard</td>\n",
       "      <td>2016</td>\n",
       "      <td>8</td>\n",
       "      <td>2017</td>\n",
       "      <td>2</td>\n",
       "      <td>9</td>\n",
       "      <td>1476</td>\n",
       "      <td>147.0</td>\n",
       "    </tr>\n",
       "    <tr>\n",
       "      <th>115785</th>\n",
       "      <td>196367</td>\n",
       "      <td>Ontario</td>\n",
       "      <td>Toronto</td>\n",
       "      <td>Male</td>\n",
       "      <td>Bachelor</td>\n",
       "      <td>96481.0</td>\n",
       "      <td>Nova</td>\n",
       "      <td>3095.18</td>\n",
       "      <td>Standard</td>\n",
       "      <td>2013</td>\n",
       "      <td>10</td>\n",
       "      <td>2017</td>\n",
       "      <td>4</td>\n",
       "      <td>14</td>\n",
       "      <td>2736</td>\n",
       "      <td>273.0</td>\n",
       "    </tr>\n",
       "    <tr>\n",
       "      <th>301122</th>\n",
       "      <td>964791</td>\n",
       "      <td>Quebec</td>\n",
       "      <td>Tremblant</td>\n",
       "      <td>Male</td>\n",
       "      <td>Bachelor</td>\n",
       "      <td>47670.0</td>\n",
       "      <td>Star</td>\n",
       "      <td>3733.03</td>\n",
       "      <td>Standard</td>\n",
       "      <td>2017</td>\n",
       "      <td>12</td>\n",
       "      <td>2018</td>\n",
       "      <td>7</td>\n",
       "      <td>11</td>\n",
       "      <td>3744</td>\n",
       "      <td>374.0</td>\n",
       "    </tr>\n",
       "  </tbody>\n",
       "</table>\n",
       "</div>"
      ],
      "text/plain": [
       "        Loyalty Number          Province       City  Gender  \\\n",
       "92851           277375           Ontario    Toronto  Female   \n",
       "189389          553943  British Columbia   Whistler    Male   \n",
       "9673            712062           Ontario   Kingston    Male   \n",
       "115785          196367           Ontario    Toronto    Male   \n",
       "301122          964791            Quebec  Tremblant    Male   \n",
       "\n",
       "                   Education    Salary Loyalty Card       CLV Enrollment Type  \\\n",
       "92851   High School or Below   73956.0       Aurora  19582.47        Standard   \n",
       "189389               College       NaN         Nova   7700.62        Standard   \n",
       "9673                  Doctor  269011.0         Star   4570.67        Standard   \n",
       "115785              Bachelor   96481.0         Nova   3095.18        Standard   \n",
       "301122              Bachelor   47670.0         Star   3733.03        Standard   \n",
       "\n",
       "        Enrollment Year  Enrollment Month  Year  Month  Flights Booked  \\\n",
       "92851              2014                 4  2018      7               0   \n",
       "189389             2012                 9  2017      5               0   \n",
       "9673               2016                 8  2017      2               9   \n",
       "115785             2013                10  2017      4              14   \n",
       "301122             2017                12  2018      7              11   \n",
       "\n",
       "        Distance  Points Accumulated  \n",
       "92851          0                 0.0  \n",
       "189389         0                 0.0  \n",
       "9673        1476               147.0  \n",
       "115785      2736               273.0  \n",
       "301122      3744               374.0  "
      ]
     },
     "execution_count": 3,
     "metadata": {},
     "output_type": "execute_result"
    }
   ],
   "source": [
    "df.sample(5)"
   ]
  },
  {
   "cell_type": "markdown",
   "metadata": {},
   "source": [
    "Vamos a comprobar primero si hay filas completas nulas o filas enteras duplicadas."
   ]
  },
  {
   "cell_type": "code",
   "execution_count": 4,
   "metadata": {},
   "outputs": [
    {
     "data": {
      "text/plain": [
       "0"
      ]
     },
     "execution_count": 4,
     "metadata": {},
     "output_type": "execute_result"
    }
   ],
   "source": [
    "df.isna().all(axis=1).sum()"
   ]
  },
  {
   "cell_type": "code",
   "execution_count": 5,
   "metadata": {},
   "outputs": [
    {
     "name": "stdout",
     "output_type": "stream",
     "text": [
      "1864\n"
     ]
    }
   ],
   "source": [
    "print(df.duplicated().sum())\n",
    "df.drop_duplicates(inplace=True)"
   ]
  },
  {
   "cell_type": "markdown",
   "metadata": {},
   "source": [
    "No tenemos filas completas nulas, pero sí tenemos filas enteras duplicadas. Éstas pueden ser descartadas ya que no nos dan ninguna información útil."
   ]
  },
  {
   "cell_type": "markdown",
   "metadata": {},
   "source": [
    "Ahora comprobemos nulos por columna. Para ello vamos a hacer un resumen rápido usando .info()."
   ]
  },
  {
   "cell_type": "code",
   "execution_count": 6,
   "metadata": {},
   "outputs": [
    {
     "name": "stdout",
     "output_type": "stream",
     "text": [
      "<class 'pandas.core.frame.DataFrame'>\n",
      "Index: 403760 entries, 0 to 405623\n",
      "Data columns (total 16 columns):\n",
      " #   Column              Non-Null Count   Dtype  \n",
      "---  ------              --------------   -----  \n",
      " 0   Loyalty Number      403760 non-null  int64  \n",
      " 1   Province            403760 non-null  object \n",
      " 2   City                403760 non-null  object \n",
      " 3   Gender              403760 non-null  object \n",
      " 4   Education           403760 non-null  object \n",
      " 5   Salary              301500 non-null  float64\n",
      " 6   Loyalty Card        403760 non-null  object \n",
      " 7   CLV                 403760 non-null  float64\n",
      " 8   Enrollment Type     403760 non-null  object \n",
      " 9   Enrollment Year     403760 non-null  int64  \n",
      " 10  Enrollment Month    403760 non-null  int64  \n",
      " 11  Year                403760 non-null  int64  \n",
      " 12  Month               403760 non-null  int64  \n",
      " 13  Flights Booked      403760 non-null  int64  \n",
      " 14  Distance            403760 non-null  int64  \n",
      " 15  Points Accumulated  403760 non-null  float64\n",
      "dtypes: float64(3), int64(7), object(6)\n",
      "memory usage: 52.4+ MB\n"
     ]
    }
   ],
   "source": [
    "df.info()"
   ]
  },
  {
   "cell_type": "markdown",
   "metadata": {},
   "source": [
    "Vemos que tenemos nulos únicamente en la columna de salarios, y además bastantes. Lo siguiente será ver la procedencia de estos nulos y tomar una decisión de cómo tratarlos."
   ]
  },
  {
   "cell_type": "code",
   "execution_count": 7,
   "metadata": {},
   "outputs": [
    {
     "data": {
      "text/html": [
       "<div>\n",
       "<style scoped>\n",
       "    .dataframe tbody tr th:only-of-type {\n",
       "        vertical-align: middle;\n",
       "    }\n",
       "\n",
       "    .dataframe tbody tr th {\n",
       "        vertical-align: top;\n",
       "    }\n",
       "\n",
       "    .dataframe thead th {\n",
       "        text-align: right;\n",
       "    }\n",
       "</style>\n",
       "<table border=\"1\" class=\"dataframe\">\n",
       "  <thead>\n",
       "    <tr style=\"text-align: right;\">\n",
       "      <th></th>\n",
       "      <th>Loyalty Number</th>\n",
       "      <th>Province</th>\n",
       "      <th>City</th>\n",
       "      <th>Gender</th>\n",
       "      <th>Education</th>\n",
       "      <th>Salary</th>\n",
       "      <th>Loyalty Card</th>\n",
       "      <th>CLV</th>\n",
       "      <th>Enrollment Type</th>\n",
       "      <th>Enrollment Year</th>\n",
       "      <th>Enrollment Month</th>\n",
       "      <th>Year</th>\n",
       "      <th>Month</th>\n",
       "      <th>Flights Booked</th>\n",
       "      <th>Distance</th>\n",
       "      <th>Points Accumulated</th>\n",
       "    </tr>\n",
       "  </thead>\n",
       "  <tbody>\n",
       "    <tr>\n",
       "      <th>72830</th>\n",
       "      <td>370014</td>\n",
       "      <td>Saskatchewan</td>\n",
       "      <td>Regina</td>\n",
       "      <td>Male</td>\n",
       "      <td>College</td>\n",
       "      <td>NaN</td>\n",
       "      <td>Aurora</td>\n",
       "      <td>9661.10</td>\n",
       "      <td>Standard</td>\n",
       "      <td>2015</td>\n",
       "      <td>4</td>\n",
       "      <td>2018</td>\n",
       "      <td>1</td>\n",
       "      <td>7</td>\n",
       "      <td>2050</td>\n",
       "      <td>205.0</td>\n",
       "    </tr>\n",
       "    <tr>\n",
       "      <th>196732</th>\n",
       "      <td>527565</td>\n",
       "      <td>British Columbia</td>\n",
       "      <td>West Vancouver</td>\n",
       "      <td>Female</td>\n",
       "      <td>College</td>\n",
       "      <td>NaN</td>\n",
       "      <td>Nova</td>\n",
       "      <td>8304.69</td>\n",
       "      <td>Standard</td>\n",
       "      <td>2016</td>\n",
       "      <td>1</td>\n",
       "      <td>2017</td>\n",
       "      <td>5</td>\n",
       "      <td>4</td>\n",
       "      <td>2324</td>\n",
       "      <td>232.0</td>\n",
       "    </tr>\n",
       "    <tr>\n",
       "      <th>69123</th>\n",
       "      <td>899825</td>\n",
       "      <td>Nova Scotia</td>\n",
       "      <td>Halifax</td>\n",
       "      <td>Female</td>\n",
       "      <td>College</td>\n",
       "      <td>NaN</td>\n",
       "      <td>Aurora</td>\n",
       "      <td>9031.21</td>\n",
       "      <td>Standard</td>\n",
       "      <td>2012</td>\n",
       "      <td>8</td>\n",
       "      <td>2017</td>\n",
       "      <td>3</td>\n",
       "      <td>16</td>\n",
       "      <td>2328</td>\n",
       "      <td>232.0</td>\n",
       "    </tr>\n",
       "    <tr>\n",
       "      <th>239724</th>\n",
       "      <td>987921</td>\n",
       "      <td>Ontario</td>\n",
       "      <td>Trenton</td>\n",
       "      <td>Male</td>\n",
       "      <td>College</td>\n",
       "      <td>NaN</td>\n",
       "      <td>Star</td>\n",
       "      <td>2034.99</td>\n",
       "      <td>Standard</td>\n",
       "      <td>2013</td>\n",
       "      <td>12</td>\n",
       "      <td>2017</td>\n",
       "      <td>10</td>\n",
       "      <td>3</td>\n",
       "      <td>1208</td>\n",
       "      <td>120.0</td>\n",
       "    </tr>\n",
       "    <tr>\n",
       "      <th>339411</th>\n",
       "      <td>727047</td>\n",
       "      <td>Ontario</td>\n",
       "      <td>Toronto</td>\n",
       "      <td>Female</td>\n",
       "      <td>College</td>\n",
       "      <td>NaN</td>\n",
       "      <td>Star</td>\n",
       "      <td>5849.32</td>\n",
       "      <td>Standard</td>\n",
       "      <td>2018</td>\n",
       "      <td>8</td>\n",
       "      <td>2017</td>\n",
       "      <td>4</td>\n",
       "      <td>0</td>\n",
       "      <td>0</td>\n",
       "      <td>0.0</td>\n",
       "    </tr>\n",
       "  </tbody>\n",
       "</table>\n",
       "</div>"
      ],
      "text/plain": [
       "        Loyalty Number          Province            City  Gender Education  \\\n",
       "72830           370014      Saskatchewan          Regina    Male   College   \n",
       "196732          527565  British Columbia  West Vancouver  Female   College   \n",
       "69123           899825       Nova Scotia         Halifax  Female   College   \n",
       "239724          987921           Ontario         Trenton    Male   College   \n",
       "339411          727047           Ontario         Toronto  Female   College   \n",
       "\n",
       "        Salary Loyalty Card      CLV Enrollment Type  Enrollment Year  \\\n",
       "72830      NaN       Aurora  9661.10        Standard             2015   \n",
       "196732     NaN         Nova  8304.69        Standard             2016   \n",
       "69123      NaN       Aurora  9031.21        Standard             2012   \n",
       "239724     NaN         Star  2034.99        Standard             2013   \n",
       "339411     NaN         Star  5849.32        Standard             2018   \n",
       "\n",
       "        Enrollment Month  Year  Month  Flights Booked  Distance  \\\n",
       "72830                  4  2018      1               7      2050   \n",
       "196732                 1  2017      5               4      2324   \n",
       "69123                  8  2017      3              16      2328   \n",
       "239724                12  2017     10               3      1208   \n",
       "339411                 8  2017      4               0         0   \n",
       "\n",
       "        Points Accumulated  \n",
       "72830                205.0  \n",
       "196732               232.0  \n",
       "69123                232.0  \n",
       "239724               120.0  \n",
       "339411                 0.0  "
      ]
     },
     "execution_count": 7,
     "metadata": {},
     "output_type": "execute_result"
    }
   ],
   "source": [
    "df[df[\"Salary\"].isna()].sample(5)"
   ]
  },
  {
   "cell_type": "code",
   "execution_count": 8,
   "metadata": {},
   "outputs": [
    {
     "data": {
      "text/plain": [
       "array(['College'], dtype=object)"
      ]
     },
     "execution_count": 8,
     "metadata": {},
     "output_type": "execute_result"
    }
   ],
   "source": [
    "df[df[\"Salary\"].isna()][\"Education\"].unique()"
   ]
  },
  {
   "cell_type": "code",
   "execution_count": 9,
   "metadata": {},
   "outputs": [
    {
     "data": {
      "text/plain": [
       "array([nan])"
      ]
     },
     "execution_count": 9,
     "metadata": {},
     "output_type": "execute_result"
    }
   ],
   "source": [
    "df[df[\"Education\"] == \"College\"][\"Salary\"].unique()"
   ]
  },
  {
   "cell_type": "code",
   "execution_count": 10,
   "metadata": {},
   "outputs": [
    {
     "data": {
      "text/plain": [
       "0.2532692688725976"
      ]
     },
     "execution_count": 10,
     "metadata": {},
     "output_type": "execute_result"
    }
   ],
   "source": [
    "df[\"Salary\"].isna().sum()/df.shape[0]"
   ]
  },
  {
   "cell_type": "markdown",
   "metadata": {},
   "source": [
    "Averiguamos que realmente los nulos de los salarios corrersponden a todos aquellos clientes que tienen un nivel educativo de College. La opción de eliminarlos no sería viable, ya que perdemos muchísimos datos (en torno a un 25% de ellos), por lo que podemos optar por imputarlos con los valores medios generales de los salarios de todo nuestro conjunto de datos. \n",
    "\n",
    "Antes de eso, vamos a tratar con otro problema que nos encontramos: salarios negativos."
   ]
  },
  {
   "cell_type": "code",
   "execution_count": 11,
   "metadata": {},
   "outputs": [
    {
     "data": {
      "text/plain": [
       "480"
      ]
     },
     "execution_count": 11,
     "metadata": {},
     "output_type": "execute_result"
    }
   ],
   "source": [
    "(df[\"Salary\"]<0).sum()"
   ]
  },
  {
   "cell_type": "markdown",
   "metadata": {},
   "source": [
    "Tenemos 480 negativos. Éstos no representan un porcentaje significante en nuestro conjunto, pero vamos a tratar de averiguar su origen."
   ]
  },
  {
   "cell_type": "code",
   "execution_count": 12,
   "metadata": {},
   "outputs": [
    {
     "data": {
      "text/plain": [
       "Loyalty Number\n",
       "115505    24\n",
       "152016    24\n",
       "194065    24\n",
       "212128    24\n",
       "232755    24\n",
       "239955    24\n",
       "347013    24\n",
       "364596    24\n",
       "366599    24\n",
       "430398    24\n",
       "436087    24\n",
       "491242    24\n",
       "525245    24\n",
       "542976    24\n",
       "603070    24\n",
       "729561    24\n",
       "734647    24\n",
       "790475    24\n",
       "906428    24\n",
       "959977    24\n",
       "Name: Salary, dtype: int64"
      ]
     },
     "execution_count": 12,
     "metadata": {},
     "output_type": "execute_result"
    }
   ],
   "source": [
    "df[df[\"Salary\"]<0].groupby([\"Loyalty Number\"])[\"Salary\"].count()"
   ]
  },
  {
   "cell_type": "markdown",
   "metadata": {},
   "source": [
    "Vemos que los datos vienen de 24 registros por cliente de unos 20 clientes. Ya que los registros se hacen mensualmente, estos son errores que surgieron durante los 2 años de los registros. \n",
    "\n",
    "Veamos algunos datos más que puedan darnos más información sobre el origen de estos datos."
   ]
  },
  {
   "cell_type": "code",
   "execution_count": 13,
   "metadata": {},
   "outputs": [
    {
     "name": "stdout",
     "output_type": "stream",
     "text": [
      "Enrollment Types: ['2018 Promotion']\n",
      "Education Levels: ['High School or Below' 'Bachelor']\n",
      "Province: ['Star' 'Aurora' 'Nova']\n"
     ]
    }
   ],
   "source": [
    "print(f'Enrollment Types: {df[df[\"Salary\"]<0][\"Enrollment Type\"].unique()}')\n",
    "print(f'Education Levels: {df[df[\"Salary\"]<0][\"Education\"].unique()}')\n",
    "print(f'Province: {df[df[\"Salary\"]<0][\"Loyalty Card\"].unique()}')"
   ]
  },
  {
   "cell_type": "markdown",
   "metadata": {},
   "source": [
    "Vemos que provienen de Enrollment Type: 2018 Promotion y Education Level High School or Below y Bachelor. De hecho:"
   ]
  },
  {
   "cell_type": "code",
   "execution_count": 14,
   "metadata": {},
   "outputs": [
    {
     "data": {
      "text/plain": [
       "Education\n",
       "Bachelor                19\n",
       "High School or Below     1\n",
       "Name: Loyalty Number, dtype: int64"
      ]
     },
     "execution_count": 14,
     "metadata": {},
     "output_type": "execute_result"
    }
   ],
   "source": [
    "df[df[\"Salary\"]<0].groupby(\"Education\")[\"Loyalty Number\"].nunique()"
   ]
  },
  {
   "cell_type": "markdown",
   "metadata": {},
   "source": [
    "Hay solo 1 de High School or Below, y el resto son Bachelor. Podemos optar por rellenar estos datos con medias de datos de perfiles similares, de tal manera que mantendremos estos registros ya que nos pueden aportar información importante, mientras que no supondrán un impacto tan grande en el cálculo de las métricas."
   ]
  },
  {
   "cell_type": "code",
   "execution_count": 15,
   "metadata": {},
   "outputs": [],
   "source": [
    "#! Primera versión\n",
    "\n",
    "def find_similar(df, id, similarities):\n",
    "    df_filter = df.copy()\n",
    "    for s in similarities:\n",
    "        # print(df_filter[s].unique())\n",
    "        df_filter = df_filter[df_filter[s]==df_filter.loc[id][s]]\n",
    "        # print(df_filter[s].unique())\n",
    "    return df_filter\n",
    "\n",
    "def fill_values(df, id, val, col):\n",
    "    df_fill = df.copy()\n",
    "    df_fill.loc[id, col] = val\n",
    "    return df_fill\n",
    "\n",
    "# for i in tqdm(df[df[\"Salary\"]<0].index):\n",
    "#     df_filtered = find_similar(df, i, similarities=[\"Education\", \"Enrollment Type\"])\n",
    "#     salary_mean = int(df_filtered[\"Salary\"].mean())\n",
    "#     df = fill_values(df, i, salary_mean, \"Salary\")"
   ]
  },
  {
   "cell_type": "code",
   "execution_count": 16,
   "metadata": {},
   "outputs": [],
   "source": [
    "# Versión optimizada\n",
    "\n",
    "def fill_missing_with_similar(data, target_col, condition, similarity_cols):\n",
    "    valid_values = data[~condition(df[target_col])]\n",
    "    median_by_group = valid_values.groupby(similarity_cols)[target_col].median()\n",
    "    df_filtered = data.copy()\n",
    "    for idx in tqdm(data[condition(df[target_col])].index):\n",
    "        group_key = tuple(df.loc[idx, similarity_cols])    \n",
    "        group_mean = median_by_group.get(group_key, 0)\n",
    "        df_filtered.loc[idx, target_col] = int(group_mean)\n",
    "    return df_filtered"
   ]
  },
  {
   "cell_type": "markdown",
   "metadata": {},
   "source": [
    "Ahora procedemos a rellenar"
   ]
  },
  {
   "cell_type": "code",
   "execution_count": 17,
   "metadata": {},
   "outputs": [
    {
     "name": "stderr",
     "output_type": "stream",
     "text": [
      "100%|██████████| 480/480 [00:00<00:00, 798.66it/s]\n",
      "100%|██████████| 102260/102260 [01:40<00:00, 1019.54it/s]\n"
     ]
    }
   ],
   "source": [
    "df = fill_missing_with_similar(df, \"Salary\", lambda x: x<0, [\"Education\", \"Loyalty Card\", \"Enrollment Type\", \"Gender\"])\n",
    "df = fill_missing_with_similar(df, \"Salary\", lambda x: x.isna(), [\"Loyalty Card\", \"Enrollment Type\", \"Gender\", \"Enrollment Year\"])"
   ]
  },
  {
   "cell_type": "code",
   "execution_count": 18,
   "metadata": {},
   "outputs": [
    {
     "data": {
      "text/html": [
       "<div>\n",
       "<style scoped>\n",
       "    .dataframe tbody tr th:only-of-type {\n",
       "        vertical-align: middle;\n",
       "    }\n",
       "\n",
       "    .dataframe tbody tr th {\n",
       "        vertical-align: top;\n",
       "    }\n",
       "\n",
       "    .dataframe thead th {\n",
       "        text-align: right;\n",
       "    }\n",
       "</style>\n",
       "<table border=\"1\" class=\"dataframe\">\n",
       "  <thead>\n",
       "    <tr style=\"text-align: right;\">\n",
       "      <th></th>\n",
       "      <th>Loyalty Number</th>\n",
       "      <th>Province</th>\n",
       "      <th>City</th>\n",
       "      <th>Gender</th>\n",
       "      <th>Education</th>\n",
       "      <th>Salary</th>\n",
       "      <th>Loyalty Card</th>\n",
       "      <th>CLV</th>\n",
       "      <th>Enrollment Type</th>\n",
       "      <th>Enrollment Year</th>\n",
       "      <th>Enrollment Month</th>\n",
       "      <th>Year</th>\n",
       "      <th>Month</th>\n",
       "      <th>Flights Booked</th>\n",
       "      <th>Distance</th>\n",
       "      <th>Points Accumulated</th>\n",
       "    </tr>\n",
       "  </thead>\n",
       "  <tbody>\n",
       "    <tr>\n",
       "      <th>78775</th>\n",
       "      <td>355515</td>\n",
       "      <td>Manitoba</td>\n",
       "      <td>Winnipeg</td>\n",
       "      <td>Female</td>\n",
       "      <td>Bachelor</td>\n",
       "      <td>53497.0</td>\n",
       "      <td>Aurora</td>\n",
       "      <td>11250.10</td>\n",
       "      <td>Standard</td>\n",
       "      <td>2013</td>\n",
       "      <td>3</td>\n",
       "      <td>2017</td>\n",
       "      <td>7</td>\n",
       "      <td>16</td>\n",
       "      <td>4672</td>\n",
       "      <td>467.0</td>\n",
       "    </tr>\n",
       "    <tr>\n",
       "      <th>328580</th>\n",
       "      <td>880805</td>\n",
       "      <td>Quebec</td>\n",
       "      <td>Hull</td>\n",
       "      <td>Female</td>\n",
       "      <td>College</td>\n",
       "      <td>69003.0</td>\n",
       "      <td>Aurora</td>\n",
       "      <td>13352.56</td>\n",
       "      <td>2018 Promotion</td>\n",
       "      <td>2018</td>\n",
       "      <td>4</td>\n",
       "      <td>2018</td>\n",
       "      <td>7</td>\n",
       "      <td>17</td>\n",
       "      <td>4913</td>\n",
       "      <td>491.0</td>\n",
       "    </tr>\n",
       "    <tr>\n",
       "      <th>120203</th>\n",
       "      <td>628320</td>\n",
       "      <td>Yukon</td>\n",
       "      <td>Whitehorse</td>\n",
       "      <td>Male</td>\n",
       "      <td>Bachelor</td>\n",
       "      <td>50800.0</td>\n",
       "      <td>Nova</td>\n",
       "      <td>3265.16</td>\n",
       "      <td>Standard</td>\n",
       "      <td>2012</td>\n",
       "      <td>7</td>\n",
       "      <td>2017</td>\n",
       "      <td>12</td>\n",
       "      <td>5</td>\n",
       "      <td>2457</td>\n",
       "      <td>245.0</td>\n",
       "    </tr>\n",
       "    <tr>\n",
       "      <th>254783</th>\n",
       "      <td>609667</td>\n",
       "      <td>British Columbia</td>\n",
       "      <td>Whistler</td>\n",
       "      <td>Female</td>\n",
       "      <td>College</td>\n",
       "      <td>70859.0</td>\n",
       "      <td>Star</td>\n",
       "      <td>2436.84</td>\n",
       "      <td>Standard</td>\n",
       "      <td>2017</td>\n",
       "      <td>4</td>\n",
       "      <td>2018</td>\n",
       "      <td>12</td>\n",
       "      <td>12</td>\n",
       "      <td>984</td>\n",
       "      <td>98.0</td>\n",
       "    </tr>\n",
       "    <tr>\n",
       "      <th>286640</th>\n",
       "      <td>930921</td>\n",
       "      <td>Ontario</td>\n",
       "      <td>Toronto</td>\n",
       "      <td>Male</td>\n",
       "      <td>Bachelor</td>\n",
       "      <td>104500.0</td>\n",
       "      <td>Star</td>\n",
       "      <td>2735.54</td>\n",
       "      <td>Standard</td>\n",
       "      <td>2014</td>\n",
       "      <td>5</td>\n",
       "      <td>2017</td>\n",
       "      <td>7</td>\n",
       "      <td>7</td>\n",
       "      <td>4312</td>\n",
       "      <td>431.0</td>\n",
       "    </tr>\n",
       "  </tbody>\n",
       "</table>\n",
       "</div>"
      ],
      "text/plain": [
       "        Loyalty Number          Province        City  Gender Education  \\\n",
       "78775           355515          Manitoba    Winnipeg  Female  Bachelor   \n",
       "328580          880805            Quebec        Hull  Female   College   \n",
       "120203          628320             Yukon  Whitehorse    Male  Bachelor   \n",
       "254783          609667  British Columbia    Whistler  Female   College   \n",
       "286640          930921           Ontario     Toronto    Male  Bachelor   \n",
       "\n",
       "          Salary Loyalty Card       CLV Enrollment Type  Enrollment Year  \\\n",
       "78775    53497.0       Aurora  11250.10        Standard             2013   \n",
       "328580   69003.0       Aurora  13352.56  2018 Promotion             2018   \n",
       "120203   50800.0         Nova   3265.16        Standard             2012   \n",
       "254783   70859.0         Star   2436.84        Standard             2017   \n",
       "286640  104500.0         Star   2735.54        Standard             2014   \n",
       "\n",
       "        Enrollment Month  Year  Month  Flights Booked  Distance  \\\n",
       "78775                  3  2017      7              16      4672   \n",
       "328580                 4  2018      7              17      4913   \n",
       "120203                 7  2017     12               5      2457   \n",
       "254783                 4  2018     12              12       984   \n",
       "286640                 5  2017      7               7      4312   \n",
       "\n",
       "        Points Accumulated  \n",
       "78775                467.0  \n",
       "328580               491.0  \n",
       "120203               245.0  \n",
       "254783                98.0  \n",
       "286640               431.0  "
      ]
     },
     "execution_count": 18,
     "metadata": {},
     "output_type": "execute_result"
    }
   ],
   "source": [
    "df.sample(5)"
   ]
  },
  {
   "cell_type": "code",
   "execution_count": 19,
   "metadata": {},
   "outputs": [
    {
     "data": {
      "text/plain": [
       "Education\n",
       "Bachelor                 72652.222202\n",
       "College                  73363.855682\n",
       "Doctor                  178403.675202\n",
       "High School or Below     61170.926302\n",
       "Master                  103734.523724\n",
       "Name: Salary, dtype: float64"
      ]
     },
     "execution_count": 19,
     "metadata": {},
     "output_type": "execute_result"
    }
   ],
   "source": [
    "df.groupby(\"Education\")[\"Salary\"].mean()"
   ]
  },
  {
   "cell_type": "code",
   "execution_count": 20,
   "metadata": {},
   "outputs": [
    {
     "name": "stdout",
     "output_type": "stream",
     "text": [
      "<class 'pandas.core.frame.DataFrame'>\n",
      "Index: 403760 entries, 0 to 405623\n",
      "Data columns (total 16 columns):\n",
      " #   Column              Non-Null Count   Dtype  \n",
      "---  ------              --------------   -----  \n",
      " 0   Loyalty Number      403760 non-null  int64  \n",
      " 1   Province            403760 non-null  object \n",
      " 2   City                403760 non-null  object \n",
      " 3   Gender              403760 non-null  object \n",
      " 4   Education           403760 non-null  object \n",
      " 5   Salary              403760 non-null  float64\n",
      " 6   Loyalty Card        403760 non-null  object \n",
      " 7   CLV                 403760 non-null  float64\n",
      " 8   Enrollment Type     403760 non-null  object \n",
      " 9   Enrollment Year     403760 non-null  int64  \n",
      " 10  Enrollment Month    403760 non-null  int64  \n",
      " 11  Year                403760 non-null  int64  \n",
      " 12  Month               403760 non-null  int64  \n",
      " 13  Flights Booked      403760 non-null  int64  \n",
      " 14  Distance            403760 non-null  int64  \n",
      " 15  Points Accumulated  403760 non-null  float64\n",
      "dtypes: float64(3), int64(7), object(6)\n",
      "memory usage: 68.5+ MB\n"
     ]
    }
   ],
   "source": [
    "df.info()"
   ]
  },
  {
   "cell_type": "markdown",
   "metadata": {},
   "source": [
    "Y así hemos podido tratar con datos inválidos. Por último renombremos las columnas para una fácil manipulación."
   ]
  },
  {
   "cell_type": "code",
   "execution_count": 21,
   "metadata": {},
   "outputs": [],
   "source": [
    "df.columns = df.columns.str.lower().str.replace(\" \", \"_\")"
   ]
  },
  {
   "cell_type": "code",
   "execution_count": 22,
   "metadata": {},
   "outputs": [
    {
     "data": {
      "text/html": [
       "<div>\n",
       "<style scoped>\n",
       "    .dataframe tbody tr th:only-of-type {\n",
       "        vertical-align: middle;\n",
       "    }\n",
       "\n",
       "    .dataframe tbody tr th {\n",
       "        vertical-align: top;\n",
       "    }\n",
       "\n",
       "    .dataframe thead th {\n",
       "        text-align: right;\n",
       "    }\n",
       "</style>\n",
       "<table border=\"1\" class=\"dataframe\">\n",
       "  <thead>\n",
       "    <tr style=\"text-align: right;\">\n",
       "      <th></th>\n",
       "      <th>loyalty_number</th>\n",
       "      <th>province</th>\n",
       "      <th>city</th>\n",
       "      <th>gender</th>\n",
       "      <th>education</th>\n",
       "      <th>salary</th>\n",
       "      <th>loyalty_card</th>\n",
       "      <th>clv</th>\n",
       "      <th>enrollment_type</th>\n",
       "      <th>enrollment_year</th>\n",
       "      <th>enrollment_month</th>\n",
       "      <th>year</th>\n",
       "      <th>month</th>\n",
       "      <th>flights_booked</th>\n",
       "      <th>distance</th>\n",
       "      <th>points_accumulated</th>\n",
       "    </tr>\n",
       "  </thead>\n",
       "  <tbody>\n",
       "    <tr>\n",
       "      <th>0</th>\n",
       "      <td>480934</td>\n",
       "      <td>Ontario</td>\n",
       "      <td>Toronto</td>\n",
       "      <td>Female</td>\n",
       "      <td>Bachelor</td>\n",
       "      <td>83236.0</td>\n",
       "      <td>Star</td>\n",
       "      <td>3839.14</td>\n",
       "      <td>Standard</td>\n",
       "      <td>2016</td>\n",
       "      <td>2</td>\n",
       "      <td>2017</td>\n",
       "      <td>1</td>\n",
       "      <td>0</td>\n",
       "      <td>0</td>\n",
       "      <td>0.0</td>\n",
       "    </tr>\n",
       "    <tr>\n",
       "      <th>1</th>\n",
       "      <td>480934</td>\n",
       "      <td>Ontario</td>\n",
       "      <td>Toronto</td>\n",
       "      <td>Female</td>\n",
       "      <td>Bachelor</td>\n",
       "      <td>83236.0</td>\n",
       "      <td>Star</td>\n",
       "      <td>3839.14</td>\n",
       "      <td>Standard</td>\n",
       "      <td>2016</td>\n",
       "      <td>2</td>\n",
       "      <td>2017</td>\n",
       "      <td>2</td>\n",
       "      <td>3</td>\n",
       "      <td>2823</td>\n",
       "      <td>282.0</td>\n",
       "    </tr>\n",
       "  </tbody>\n",
       "</table>\n",
       "</div>"
      ],
      "text/plain": [
       "   loyalty_number province     city  gender education   salary loyalty_card  \\\n",
       "0          480934  Ontario  Toronto  Female  Bachelor  83236.0         Star   \n",
       "1          480934  Ontario  Toronto  Female  Bachelor  83236.0         Star   \n",
       "\n",
       "       clv enrollment_type  enrollment_year  enrollment_month  year  month  \\\n",
       "0  3839.14        Standard             2016                 2  2017      1   \n",
       "1  3839.14        Standard             2016                 2  2017      2   \n",
       "\n",
       "   flights_booked  distance  points_accumulated  \n",
       "0               0         0                 0.0  \n",
       "1               3      2823               282.0  "
      ]
     },
     "execution_count": 22,
     "metadata": {},
     "output_type": "execute_result"
    }
   ],
   "source": [
    "df.head(2)"
   ]
  },
  {
   "cell_type": "markdown",
   "metadata": {},
   "source": [
    "## Ejercicio 2:\n",
    "Determina si existe una diferencia significativa en el número de vuelos reservados entre los diferentes niveles educativos.\n",
    "\n",
    " Pasos a seguir:\n",
    "\n",
    "   - Definición de la hipótesis.\n",
    "   - Prueba de hipótesis\n",
    "   - Análisis de resultados\n",
    "   - Conclusiones\n",
    "   \n"
   ]
  },
  {
   "cell_type": "markdown",
   "metadata": {},
   "source": [
    "Para ver si hay una diferencia significativa en el número de vuelos reservados entre los diferentes niveles educativos, habrá que plantear una hipótesis de igualdad de medias (o medianas en un caso no paramétrico). El test a ejecutar dependerá de la naturaleza de nuestras distribuciones. Vamos a comprobar primero con qué estamos lidiando."
   ]
  },
  {
   "cell_type": "code",
   "execution_count": 23,
   "metadata": {},
   "outputs": [
    {
     "data": {
      "image/png": "[encoded data removed]",
      "text/plain": [
       "<Figure size 1600x1000 with 5 Axes>"
      ]
     },
     "metadata": {},
     "output_type": "display_data"
    }
   ],
   "source": [
    "rows = 2\n",
    "cols = 3\n",
    "\n",
    "educations = df[\"education\"].unique()\n",
    "colors = [\"tomato\", \"gold\", \"forestgreen\", \"deepskyblue\", \"purple\"]\n",
    "\n",
    "fig, axes = plt.subplots(nrows = rows, ncols = cols, figsize = (8,5), dpi = 200)\n",
    "axes = axes.flat\n",
    "plt.suptitle(\"Número de vuelos reservados por educación, agrupados por clientes\")\n",
    "for i in range(len(educations)):\n",
    "    axes[i].set_title(educations[i])\n",
    "    sns.histplot(data = df[df[\"education\"] == educations[i]],\n",
    "                  x = \"flights_booked\", ax=axes[i], color=colors[i], kde=True)\n",
    "    axes[i].set_xlim(0,max(df[\"flights_booked\"]))\n",
    "    axes[i].set_xlabel(\"Vuelos reservados\")\n",
    "plt.tight_layout()\n",
    "\n",
    "plt.delaxes(axes[-1])\n",
    "plt.show()"
   ]
  },
  {
   "cell_type": "code",
   "execution_count": 24,
   "metadata": {},
   "outputs": [
    {
     "data": {
      "text/plain": [
       "education\n",
       "Bachelor                252567\n",
       "College                 102260\n",
       "Doctor                   17731\n",
       "High School or Below     18915\n",
       "Master                   12287\n",
       "Name: loyalty_number, dtype: int64"
      ]
     },
     "execution_count": 24,
     "metadata": {},
     "output_type": "execute_result"
    }
   ],
   "source": [
    "df.groupby(\"education\")[\"loyalty_number\"].count()"
   ]
  },
  {
   "cell_type": "markdown",
   "metadata": {},
   "source": [
    "Ya que tratamos con muestras grandes, para comprobar normalidad usaremos un test de kolmogorov de comparación de distribuciones."
   ]
  },
  {
   "cell_type": "code",
   "execution_count": 25,
   "metadata": {},
   "outputs": [],
   "source": [
    "def test_norm(df, col, sig_level):\n",
    "    media = np.mean(df[col])\n",
    "    sd = np.std(df[col])\n",
    "    normal = np.random.normal(loc = media, scale = sd, size = df[col].shape[0])   \n",
    "    pval = stats.kstest(df[col], normal).pvalue\n",
    "    if pval < sig_level:\n",
    "        print(\"Se rechaza la hipotesis nula, no es normal.\")\n",
    "    elif pval > sig_level:\n",
    "        print(\"No se rechaza la hipótesis nula, es normal.\")\n",
    "    return stats.kstest(df[col], normal)"
   ]
  },
  {
   "cell_type": "code",
   "execution_count": 26,
   "metadata": {},
   "outputs": [
    {
     "name": "stdout",
     "output_type": "stream",
     "text": [
      "Se rechaza la hipotesis nula, no es normal.\n",
      "Se rechaza la hipotesis nula, no es normal.\n",
      "Se rechaza la hipotesis nula, no es normal.\n",
      "Se rechaza la hipotesis nula, no es normal.\n",
      "Se rechaza la hipotesis nula, no es normal.\n"
     ]
    }
   ],
   "source": [
    "dfs_educations = [df[df[\"education\"] == edu] for edu in educations]\n",
    "for dataframe in dfs_educations:\n",
    "    test_norm(dataframe, \"flights_booked\", 0.05)"
   ]
  },
  {
   "cell_type": "markdown",
   "metadata": {},
   "source": [
    "Ninguna de las distribuciones es normal. Esto nos da paso a el uso de tests no paramétricos para igualdad de medianas."
   ]
  },
  {
   "cell_type": "code",
   "execution_count": 27,
   "metadata": {},
   "outputs": [],
   "source": [
    "def get_test(dep, *samples):\n",
    "    if len(samples) > 2:\n",
    "        print(\"More than 2 samples:\")\n",
    "        return stats.kruskal(*samples)\n",
    "    elif len(samples) == 2:\n",
    "        print(\"2 samples:\")\n",
    "        if dep:\n",
    "            return stats.wilcoxon(*samples)\n",
    "        else:\n",
    "            return stats.mannwhitneyu(*samples)\n",
    "    print(\"Necesitas al menos 2 muestras.\")"
   ]
  },
  {
   "cell_type": "code",
   "execution_count": 28,
   "metadata": {},
   "outputs": [
    {
     "name": "stdout",
     "output_type": "stream",
     "text": [
      "More than 2 samples:\n"
     ]
    },
    {
     "data": {
      "text/plain": [
       "KruskalResult(statistic=17.532618623121756, pvalue=0.0015225470219889365)"
      ]
     },
     "execution_count": 28,
     "metadata": {},
     "output_type": "execute_result"
    }
   ],
   "source": [
    "get_test(False, dfs_educations[0][\"flights_booked\"],\n",
    "          dfs_educations[1][\"flights_booked\"], dfs_educations[2][\"flights_booked\"], \n",
    "          dfs_educations[3][\"flights_booked\"], dfs_educations[4][\"flights_booked\"])"
   ]
  },
  {
   "cell_type": "markdown",
   "metadata": {},
   "source": [
    "El test nos dice que al menos dos de nuestras muestras tienen medianas significativamente diferentes. ¿Cuáles?"
   ]
  },
  {
   "cell_type": "code",
   "execution_count": 29,
   "metadata": {},
   "outputs": [
    {
     "data": {
      "text/plain": [
       "education\n",
       "Bachelor                1.0\n",
       "College                 1.0\n",
       "Doctor                  1.0\n",
       "High School or Below    1.0\n",
       "Master                  1.0\n",
       "Name: flights_booked, dtype: float64"
      ]
     },
     "execution_count": 29,
     "metadata": {},
     "output_type": "execute_result"
    }
   ],
   "source": [
    "df.groupby(\"education\")[\"flights_booked\"].median()"
   ]
  },
  {
   "cell_type": "code",
   "execution_count": 38,
   "metadata": {},
   "outputs": [
    {
     "data": {
      "image/png": "[encoded data removed]",
      "text/plain": [
       "<Figure size 600x600 with 1 Axes>"
      ]
     },
     "metadata": {},
     "output_type": "display_data"
    }
   ],
   "source": [
    "plt.figure(figsize=(5,5), dpi =120)\n",
    "sns.boxplot(data = df[[\"education\", \"flights_booked\"]], y = \"flights_booked\", hue = \"education\")\n",
    "plt.legend()\n",
    "plt.show()"
   ]
  },
  {
   "cell_type": "markdown",
   "metadata": {},
   "source": [
    "¿Cómo interpretamos estos resultados? Una posible explicación sería la presencia obscena de valores en el 0. Estos vienen de el hecho de que nuestros datos son registros mensuales por cliente, y 0 significaría que en ese mes el cliente no reservó ningún vuelo. Al ser el test de kruskal un test por rangos, al haber valores repetidos en 0, los rangos asignados son diferentes para cada una de las muestras (tienen tamaños muestrales diferentes), y por tanto el rango asignado para la mediana (en este caso 1), será diferente en cada una de las muestras, obteniendo un test que rechaza la hipótesis nula de igualdad de medianas. \n",
    "\n",
    "El pvalue bajo del test indica que, aunque la mediana sea 1 en cada grupo, la forma en que los datos se distribuyen alrededor de esta mediana difiere significativamente entre muestras. Este es un buen ejemplo de cómo el test de Kruskal-Wallis puede rechazar la hipótesis nula de igualdad de distribución aun cuando las medianas son iguales."
   ]
  },
  {
   "cell_type": "markdown",
   "metadata": {},
   "source": [
    "## Ejercicio 3:\n",
    "Determina si existe una diferencia significativa en el salario de los clientes en función del género de los mismos.\n",
    "\n",
    "Pasos a seguir:\n",
    "   - Definición de la hipótesis.\n",
    "   - Prueba de hipótesis\n",
    "   - Análisis de resultados\n",
    "   - Conclusiones"
   ]
  },
  {
   "cell_type": "markdown",
   "metadata": {},
   "source": [
    "La hipótesis nula a plantear es una igualdad de medias (o varianzas en caso de no paramétrico), donde compararemos las distribuciones de salario según el género. Primero deberemos comprobar la normalidad de los datos, para saber cómo proceder: paramétricamente o no. Hagamos una visualización rápida:"
   ]
  },
  {
   "cell_type": "code",
   "execution_count": 31,
   "metadata": {},
   "outputs": [],
   "source": [
    "genders = df[\"gender\"].unique()"
   ]
  },
  {
   "cell_type": "code",
   "execution_count": 39,
   "metadata": {},
   "outputs": [
    {
     "data": {
      "image/png": "[encoded data removed]",
      "text/plain": [
       "<Figure size 1200x600 with 2 Axes>"
      ]
     },
     "metadata": {},
     "output_type": "display_data"
    }
   ],
   "source": [
    "fig, axes = plt.subplots(1,2,figsize = (8,4), dpi=150, sharey=True, sharex=True)\n",
    "colors2 = [\"tomato\", \"deepskyblue\"]\n",
    "for i in range(len(genders)):\n",
    "    axes[i].set_title(genders[i])\n",
    "    sns.histplot(df[df[\"gender\"] == genders[i]][\"salary\"], ax=axes[i], kde = True, color = colors2[i])\n",
    "    axes[i].set_xlabel(\"Salario\")\n",
    "plt.show()"
   ]
  },
  {
   "cell_type": "code",
   "execution_count": 33,
   "metadata": {},
   "outputs": [
    {
     "name": "stdout",
     "output_type": "stream",
     "text": [
      "Se rechaza la hipotesis nula, no es normal.\n",
      "Se rechaza la hipotesis nula, no es normal.\n"
     ]
    }
   ],
   "source": [
    "for g in genders:\n",
    "    test_norm(df[df[\"gender\"] == g], col = \"salary\", sig_level=0.05)"
   ]
  },
  {
   "cell_type": "markdown",
   "metadata": {},
   "source": [
    "No son distribuciones normales, por lo que aplicaremos tests no paramétricos para comparar medianas."
   ]
  },
  {
   "cell_type": "code",
   "execution_count": 34,
   "metadata": {},
   "outputs": [
    {
     "name": "stdout",
     "output_type": "stream",
     "text": [
      "2 samples:\n"
     ]
    },
    {
     "data": {
      "text/plain": [
       "MannwhitneyuResult(statistic=20615082269.0, pvalue=1.3712757444174276e-10)"
      ]
     },
     "execution_count": 34,
     "metadata": {},
     "output_type": "execute_result"
    }
   ],
   "source": [
    "get_test(False, df[df[\"gender\"] == \"Female\"][\"salary\"], df[df[\"gender\"] == \"Male\"][\"salary\"])"
   ]
  },
  {
   "cell_type": "markdown",
   "metadata": {},
   "source": [
    "Realmente el test U de Mann Whitney no compara medianas, sino distribuciones como tal. El resultado del test rechaza la hipótesis nula de igualdad de distribuciones, lo cual indica que los salarios difieren entre hombres y mujeres. Podemos realizar el test de nuevo pero unilateralmente, lo cual nos dará información de cuál es mayor y cuál menor, aunque mirando la gráfica misma podemos deducir que los salarios de las mujeres son más altos. Comprobémoslo:"
   ]
  },
  {
   "cell_type": "code",
   "execution_count": 35,
   "metadata": {},
   "outputs": [
    {
     "data": {
      "text/plain": [
       "MannwhitneyuResult(statistic=20615082269.0, pvalue=6.856378722087138e-11)"
      ]
     },
     "execution_count": 35,
     "metadata": {},
     "output_type": "execute_result"
    }
   ],
   "source": [
    "stats.mannwhitneyu(df[df[\"gender\"] == \"Female\"][\"salary\"], df[df[\"gender\"] == \"Male\"][\"salary\"], alternative='greater')"
   ]
  },
  {
   "cell_type": "markdown",
   "metadata": {},
   "source": [
    "Haciendo un test unilateral por la derecha, la hipótesis nula es que el salario de mujer sea menor que el de hombre. Obtenemos un pvalue < 0.05, por lo que se rechaza la hipótesis nula, concluyendo que los salarios de las mujeres son más altos."
   ]
  }
 ],
 "metadata": {
  "kernelspec": {
   "display_name": "Python 3",
   "language": "python",
   "name": "python3"
  },
  "language_info": {
   "codemirror_mode": {
    "name": "ipython",
    "version": 3
   },
   "file_extension": ".py",
   "mimetype": "text/x-python",
   "name": "python",
   "nbconvert_exporter": "python",
   "pygments_lexer": "ipython3",
   "version": "3.11.9"
  }
 },
 "nbformat": 4,
 "nbformat_minor": 2
}
